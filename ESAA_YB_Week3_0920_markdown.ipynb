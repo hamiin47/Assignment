{
  "nbformat": 4,
  "nbformat_minor": 0,
  "metadata": {
    "colab": {
      "provenance": [],
      "mount_file_id": "1Wn8AwWEFNivD3hBHc30Z7ERU4vD4bBH4",
      "authorship_tag": "ABX9TyMzY413ME4LY334QS3B+QxO",
      "include_colab_link": true
    },
    "kernelspec": {
      "name": "python3",
      "display_name": "Python 3"
    },
    "language_info": {
      "name": "python"
    }
  },
  "cells": [
    {
      "cell_type": "markdown",
      "metadata": {
        "id": "view-in-github",
        "colab_type": "text"
      },
      "source": [
        "<a href=\"https://colab.research.google.com/github/hamiin47/Assignment/blob/main/ESAA_YB_Week3_0920_markdown.ipynb\" target=\"_parent\"><img src=\"https://colab.research.google.com/assets/colab-badge.svg\" alt=\"Open In Colab\"/></a>"
      ]
    },
    {
      "cell_type": "markdown",
      "source": [
        "# **datetime 오브젝트**\n",
        "- 날짜와 시간을 처리하는 등의 다양한 기능을 제공하는 파이썬 라이브러리\n",
        "- 날짜를 처리하는 date 오브젝트 / 시간을 처리하는 time 오브젝트 / 날짜와 시간을 모두 처리하는 datetime 오브젝트로 구성"
      ],
      "metadata": {
        "id": "UhU21CiJ433m"
      }
    },
    {
      "cell_type": "code",
      "execution_count": 11,
      "metadata": {
        "colab": {
          "base_uri": "https://localhost:8080/"
        },
        "id": "GfvPtpdU4n3G",
        "outputId": "cff594c3-3b5e-40eb-aaf1-e8c5c53fd391"
      },
      "outputs": [
        {
          "output_type": "stream",
          "name": "stdout",
          "text": [
            "2024-09-22 03:16:00.009777\n"
          ]
        }
      ],
      "source": [
        "from datetime import datetime\n",
        "\n",
        "now1 = datetime.now()\n",
        "print(now1)"
      ]
    },
    {
      "cell_type": "code",
      "source": [
        "now2 = datetime.today()\n",
        "print(now2)"
      ],
      "metadata": {
        "colab": {
          "base_uri": "https://localhost:8080/"
        },
        "id": "IRKOYQu55s3p",
        "outputId": "a6be2221-8e9d-4f39-dfa6-9889dcb5d548"
      },
      "execution_count": 12,
      "outputs": [
        {
          "output_type": "stream",
          "name": "stdout",
          "text": [
            "2024-09-22 03:16:00.909004\n"
          ]
        }
      ]
    },
    {
      "cell_type": "code",
      "source": [
        "t1 = datetime.now()\n",
        "t2 = datetime(1970, 1, 1)\n",
        "t3 = datetime(1970, 12, 12, 13, 24, 34)\n",
        "\n",
        "print(t1)\n",
        "print(t2)\n",
        "print(t3)"
      ],
      "metadata": {
        "colab": {
          "base_uri": "https://localhost:8080/"
        },
        "id": "zwPrIkvz55vI",
        "outputId": "763c23d9-e470-40f8-a386-3555364c57a4"
      },
      "execution_count": 13,
      "outputs": [
        {
          "output_type": "stream",
          "name": "stdout",
          "text": [
            "2024-09-22 03:16:00.918058\n",
            "1970-01-01 00:00:00\n",
            "1970-12-12 13:24:34\n"
          ]
        }
      ]
    },
    {
      "cell_type": "code",
      "source": [
        "diff1 = t1 - t2\n",
        "\n",
        "print(diff1)\n",
        "print(type(diff1))"
      ],
      "metadata": {
        "colab": {
          "base_uri": "https://localhost:8080/"
        },
        "id": "1UwsOXfT6Kyu",
        "outputId": "e523b2e8-e54b-42db-bd01-76a475543ce5"
      },
      "execution_count": 14,
      "outputs": [
        {
          "output_type": "stream",
          "name": "stdout",
          "text": [
            "19988 days, 3:16:00.918058\n",
            "<class 'datetime.timedelta'>\n"
          ]
        }
      ]
    },
    {
      "cell_type": "code",
      "source": [
        "diff2 = t2 - t1\n",
        "print(diff2)\n",
        "print(type(diff2))"
      ],
      "metadata": {
        "colab": {
          "base_uri": "https://localhost:8080/"
        },
        "id": "KWdMxVX46XiW",
        "outputId": "68e7d8c4-d726-4ddb-ea11-aec12bdcad93"
      },
      "execution_count": 15,
      "outputs": [
        {
          "output_type": "stream",
          "name": "stdout",
          "text": [
            "-19989 days, 20:43:59.081942\n",
            "<class 'datetime.timedelta'>\n"
          ]
        }
      ]
    },
    {
      "cell_type": "markdown",
      "source": [
        "# **to_datetime 메서드**\n",
        "\n",
        "- 시계열 데이터를 문자열로 저장해야할 때가 있음\n",
        "- 그러나 문자열은 시간 계산을 할 수 없기 때문에 datetime 오브젝트로 변환해주어야함\n",
        "- to_datetime()이용"
      ],
      "metadata": {
        "id": "D6-suReT6mbl"
      }
    },
    {
      "cell_type": "code",
      "source": [
        "import pandas as pd\n",
        "import os\n",
        "\n",
        "ebola = pd.read_csv('/content/drive/MyDrive/country_timeseries.csv')\n",
        "print(ebola.info())"
      ],
      "metadata": {
        "colab": {
          "base_uri": "https://localhost:8080/"
        },
        "id": "VQY7MnPw61i0",
        "outputId": "5f1fcb6e-a93c-448d-e5ea-97bc20d2a6ab"
      },
      "execution_count": 16,
      "outputs": [
        {
          "output_type": "stream",
          "name": "stdout",
          "text": [
            "<class 'pandas.core.frame.DataFrame'>\n",
            "RangeIndex: 122 entries, 0 to 121\n",
            "Data columns (total 18 columns):\n",
            " #   Column               Non-Null Count  Dtype  \n",
            "---  ------               --------------  -----  \n",
            " 0   Date                 122 non-null    object \n",
            " 1   Day                  122 non-null    int64  \n",
            " 2   Cases_Guinea         93 non-null     float64\n",
            " 3   Cases_Liberia        83 non-null     float64\n",
            " 4   Cases_SierraLeone    87 non-null     float64\n",
            " 5   Cases_Nigeria        38 non-null     float64\n",
            " 6   Cases_Senegal        25 non-null     float64\n",
            " 7   Cases_UnitedStates   18 non-null     float64\n",
            " 8   Cases_Spain          16 non-null     float64\n",
            " 9   Cases_Mali           12 non-null     float64\n",
            " 10  Deaths_Guinea        92 non-null     float64\n",
            " 11  Deaths_Liberia       81 non-null     float64\n",
            " 12  Deaths_SierraLeone   87 non-null     float64\n",
            " 13  Deaths_Nigeria       38 non-null     float64\n",
            " 14  Deaths_Senegal       22 non-null     float64\n",
            " 15  Deaths_UnitedStates  18 non-null     float64\n",
            " 16  Deaths_Spain         16 non-null     float64\n",
            " 17  Deaths_Mali          12 non-null     float64\n",
            "dtypes: float64(16), int64(1), object(1)\n",
            "memory usage: 17.3+ KB\n",
            "None\n"
          ]
        }
      ]
    },
    {
      "cell_type": "code",
      "source": [
        "#date열의 자료형을 datetime 오브젝트로 변환\n",
        "ebola['date_dt'] = pd.to_datetime(ebola['Date'])\n",
        "print(ebola.info())"
      ],
      "metadata": {
        "colab": {
          "base_uri": "https://localhost:8080/"
        },
        "id": "HPduEb1R-55x",
        "outputId": "8e7cb4a7-6e5b-4844-b10f-b692258833eb"
      },
      "execution_count": 17,
      "outputs": [
        {
          "output_type": "stream",
          "name": "stdout",
          "text": [
            "<class 'pandas.core.frame.DataFrame'>\n",
            "RangeIndex: 122 entries, 0 to 121\n",
            "Data columns (total 19 columns):\n",
            " #   Column               Non-Null Count  Dtype         \n",
            "---  ------               --------------  -----         \n",
            " 0   Date                 122 non-null    object        \n",
            " 1   Day                  122 non-null    int64         \n",
            " 2   Cases_Guinea         93 non-null     float64       \n",
            " 3   Cases_Liberia        83 non-null     float64       \n",
            " 4   Cases_SierraLeone    87 non-null     float64       \n",
            " 5   Cases_Nigeria        38 non-null     float64       \n",
            " 6   Cases_Senegal        25 non-null     float64       \n",
            " 7   Cases_UnitedStates   18 non-null     float64       \n",
            " 8   Cases_Spain          16 non-null     float64       \n",
            " 9   Cases_Mali           12 non-null     float64       \n",
            " 10  Deaths_Guinea        92 non-null     float64       \n",
            " 11  Deaths_Liberia       81 non-null     float64       \n",
            " 12  Deaths_SierraLeone   87 non-null     float64       \n",
            " 13  Deaths_Nigeria       38 non-null     float64       \n",
            " 14  Deaths_Senegal       22 non-null     float64       \n",
            " 15  Deaths_UnitedStates  18 non-null     float64       \n",
            " 16  Deaths_Spain         16 non-null     float64       \n",
            " 17  Deaths_Mali          12 non-null     float64       \n",
            " 18  date_dt              122 non-null    datetime64[ns]\n",
            "dtypes: datetime64[ns](1), float64(16), int64(1), object(1)\n",
            "memory usage: 18.2+ KB\n",
            "None\n"
          ]
        }
      ]
    },
    {
      "cell_type": "code",
      "source": [
        "test_df1 = pd.DataFrame({'order_day':['01/01/15', '02/01/15', '03/01/15']})\n",
        "\n",
        "test_df1['date_df1'] = pd.to_datetime(test_df1['order_day'], format='%d/%m/%y')\n",
        "test_df1['date_df2'] = pd.to_datetime(test_df1['order_day'], format='%m/%d/%y')\n",
        "test_df1['date_df3'] = pd.to_datetime(test_df1['order_day'], format='%y/%m/%d')\n",
        "\n",
        "print(test_df1)"
      ],
      "metadata": {
        "colab": {
          "base_uri": "https://localhost:8080/"
        },
        "id": "tI1OSSq3_Nv4",
        "outputId": "f9679764-075f-46a0-9f2c-1dbba070182b"
      },
      "execution_count": 18,
      "outputs": [
        {
          "output_type": "stream",
          "name": "stdout",
          "text": [
            "  order_day   date_df1   date_df2   date_df3\n",
            "0  01/01/15 2015-01-01 2015-01-01 2001-01-15\n",
            "1  02/01/15 2015-01-02 2015-02-01 2002-01-15\n",
            "2  03/01/15 2015-01-03 2015-03-01 2003-01-15\n"
          ]
        }
      ]
    },
    {
      "cell_type": "code",
      "source": [
        "test_df2 = pd.DataFrame({'order_day':['01-01-15', '02-01-15', '03-01-15']})\n",
        "test_df2['date_dt'] = pd.to_datetime(test_df2['order_day'], format='%d-%m-%y')\n",
        "print(test_df2)"
      ],
      "metadata": {
        "colab": {
          "base_uri": "https://localhost:8080/"
        },
        "id": "QuDw0kz4AcYT",
        "outputId": "a2739a57-aa93-4154-b1e3-d9663a2d7ccb"
      },
      "execution_count": 19,
      "outputs": [
        {
          "output_type": "stream",
          "name": "stdout",
          "text": [
            "  order_day    date_dt\n",
            "0  01-01-15 2015-01-01\n",
            "1  02-01-15 2015-01-02\n",
            "2  03-01-15 2015-01-03\n"
          ]
        }
      ]
    },
    {
      "cell_type": "markdown",
      "source": [
        "# **시간 형식 지정자**\n",
        "- %a / %A / %w .."
      ],
      "metadata": {
        "id": "y9pXWtANA3oL"
      }
    },
    {
      "cell_type": "code",
      "source": [
        "#strftime메서드와 시간 형식 지정자를 이용하여 시계열 데이터를 잘라냄\n",
        "now = datetime.now()\n",
        "print(now)"
      ],
      "metadata": {
        "colab": {
          "base_uri": "https://localhost:8080/"
        },
        "id": "u9FSLqf2A-pH",
        "outputId": "16b17215-928b-4946-d9c9-e4508e9d64b7"
      },
      "execution_count": 20,
      "outputs": [
        {
          "output_type": "stream",
          "name": "stdout",
          "text": [
            "2024-09-22 03:16:01.030676\n"
          ]
        }
      ]
    },
    {
      "cell_type": "code",
      "source": [
        "nowDate = now.strftime('%Y-%m-%d')\n",
        "print(nowDate)"
      ],
      "metadata": {
        "colab": {
          "base_uri": "https://localhost:8080/"
        },
        "id": "FiNMxtq9BLi9",
        "outputId": "7843e2cf-68f4-4429-9cd6-a4a612783222"
      },
      "execution_count": 21,
      "outputs": [
        {
          "output_type": "stream",
          "name": "stdout",
          "text": [
            "2024-09-22\n"
          ]
        }
      ]
    },
    {
      "cell_type": "code",
      "source": [
        "nowTime = now.strftime('%H:%M:%S')\n",
        "print(nowTime)"
      ],
      "metadata": {
        "colab": {
          "base_uri": "https://localhost:8080/"
        },
        "id": "ggSbIND-BSxc",
        "outputId": "033631b6-20f0-4829-e23f-d036e8b9fe4c"
      },
      "execution_count": 22,
      "outputs": [
        {
          "output_type": "stream",
          "name": "stdout",
          "text": [
            "03:16:01\n"
          ]
        }
      ]
    },
    {
      "cell_type": "code",
      "source": [
        "nowDatetime = now.strftime('%Y-%M-%d %H:%M:%S')\n",
        "print(nowDatetime)"
      ],
      "metadata": {
        "colab": {
          "base_uri": "https://localhost:8080/"
        },
        "id": "oqgtgrqFBZU-",
        "outputId": "55a1c0fe-d318-4fbb-c562-cf5ee2daa4e9"
      },
      "execution_count": 23,
      "outputs": [
        {
          "output_type": "stream",
          "name": "stdout",
          "text": [
            "2024-16-22 03:16:01\n"
          ]
        }
      ]
    },
    {
      "cell_type": "markdown",
      "source": [
        "# **read.csv 메서드**\n",
        "- parse_dates 인자에 datetime오브젝트로 변환하고자 하는 열의 이름을 전달"
      ],
      "metadata": {
        "id": "vHhX-YPcBiEc"
      }
    },
    {
      "cell_type": "code",
      "source": [
        "ebola1 = pd.read_csv('/content/drive/MyDrive/country_timeseries.csv', parse_dates=['Date'])\n",
        "print(ebola1.info())"
      ],
      "metadata": {
        "colab": {
          "base_uri": "https://localhost:8080/"
        },
        "id": "FudbWPuwBh0e",
        "outputId": "63c2047a-1ee3-41dd-b3af-e4fd9b34a503"
      },
      "execution_count": 25,
      "outputs": [
        {
          "output_type": "stream",
          "name": "stdout",
          "text": [
            "<class 'pandas.core.frame.DataFrame'>\n",
            "RangeIndex: 122 entries, 0 to 121\n",
            "Data columns (total 18 columns):\n",
            " #   Column               Non-Null Count  Dtype         \n",
            "---  ------               --------------  -----         \n",
            " 0   Date                 122 non-null    datetime64[ns]\n",
            " 1   Day                  122 non-null    int64         \n",
            " 2   Cases_Guinea         93 non-null     float64       \n",
            " 3   Cases_Liberia        83 non-null     float64       \n",
            " 4   Cases_SierraLeone    87 non-null     float64       \n",
            " 5   Cases_Nigeria        38 non-null     float64       \n",
            " 6   Cases_Senegal        25 non-null     float64       \n",
            " 7   Cases_UnitedStates   18 non-null     float64       \n",
            " 8   Cases_Spain          16 non-null     float64       \n",
            " 9   Cases_Mali           12 non-null     float64       \n",
            " 10  Deaths_Guinea        92 non-null     float64       \n",
            " 11  Deaths_Liberia       81 non-null     float64       \n",
            " 12  Deaths_SierraLeone   87 non-null     float64       \n",
            " 13  Deaths_Nigeria       38 non-null     float64       \n",
            " 14  Deaths_Senegal       22 non-null     float64       \n",
            " 15  Deaths_UnitedStates  18 non-null     float64       \n",
            " 16  Deaths_Spain         16 non-null     float64       \n",
            " 17  Deaths_Mali          12 non-null     float64       \n",
            "dtypes: datetime64[ns](1), float64(16), int64(1)\n",
            "memory usage: 17.3 KB\n",
            "None\n"
          ]
        }
      ]
    },
    {
      "cell_type": "markdown",
      "source": [
        "문자열로 지정된 날짜를 **시리즈**에 담아 datetime 오브젝트로 변환\n"
      ],
      "metadata": {
        "id": "ihlZtLLkCECG"
      }
    },
    {
      "cell_type": "code",
      "source": [
        "date_series = pd.Series(['2018-05-16', '2018-05-17', '2018-05-18'])\n",
        "d1 = pd.to_datetime(date_series)\n",
        "print(d1)"
      ],
      "metadata": {
        "colab": {
          "base_uri": "https://localhost:8080/"
        },
        "id": "EAkFy0T7tU0q",
        "outputId": "78a9f936-0861-4a58-f704-1e2e0ec07e0d"
      },
      "execution_count": 26,
      "outputs": [
        {
          "output_type": "stream",
          "name": "stdout",
          "text": [
            "0   2018-05-16\n",
            "1   2018-05-17\n",
            "2   2018-05-18\n",
            "dtype: datetime64[ns]\n"
          ]
        }
      ]
    },
    {
      "cell_type": "markdown",
      "source": [
        "d1의 year,month,day 속성을 이용하여 년,월.일 정보를 바로 추출"
      ],
      "metadata": {
        "id": "p0xkQjrXuucK"
      }
    },
    {
      "cell_type": "code",
      "source": [
        "print(d1[0].year)\n",
        "print(d1[0].month)\n",
        "print(d1[0].day)"
      ],
      "metadata": {
        "colab": {
          "base_uri": "https://localhost:8080/"
        },
        "id": "4QJ3kCTOu1sb",
        "outputId": "958b4402-dd2b-4119-fe90-634067ec7d37"
      },
      "execution_count": 27,
      "outputs": [
        {
          "output_type": "stream",
          "name": "stdout",
          "text": [
            "2018\n",
            "5\n",
            "16\n"
          ]
        }
      ]
    },
    {
      "cell_type": "markdown",
      "source": [
        "# **dt접근자**\n",
        "- 문자열을 처리하기 위해 str접근자를 사용한 후 문자열 속성이나 메서드 사용\n",
        "- datetime오브젝트는 **dt접근자**를 사용하여 datetime 속성이나 메서드를 사용하여 시계열 데이터 처리"
      ],
      "metadata": {
        "id": "E85e1YS6u_bU"
      }
    },
    {
      "cell_type": "code",
      "source": [
        "#date 열을 datetime 오브젝트로 변환하여 새로운 열(date_dt)추가\n",
        "ebola = pd.read_csv('/content/drive/MyDrive/country_timeseries.csv')\n",
        "ebola['date_dt'] = pd.to_datetime(ebola['Date'])"
      ],
      "metadata": {
        "id": "oM2OPo_OvVIf"
      },
      "execution_count": 28,
      "outputs": []
    },
    {
      "cell_type": "code",
      "source": [
        "print(ebola[['Date', 'date_dt']].head())"
      ],
      "metadata": {
        "colab": {
          "base_uri": "https://localhost:8080/"
        },
        "id": "EFirZL2PvsQN",
        "outputId": "98b1baf6-46ea-48ed-da47-3ee0550a623c"
      },
      "execution_count": 29,
      "outputs": [
        {
          "output_type": "stream",
          "name": "stdout",
          "text": [
            "         Date    date_dt\n",
            "0    1/5/2015 2015-01-05\n",
            "1    1/4/2015 2015-01-04\n",
            "2    1/3/2015 2015-01-03\n",
            "3    1/2/2015 2015-01-02\n",
            "4  12/31/2014 2014-12-31\n"
          ]
        }
      ]
    },
    {
      "cell_type": "code",
      "source": [
        "print(ebola['date_dt'][3].year)\n",
        "print(ebola['date_dt'][3].month)\n",
        "print(ebola['date_dt'][3].day)"
      ],
      "metadata": {
        "colab": {
          "base_uri": "https://localhost:8080/"
        },
        "id": "8LmJ_L9XvxhJ",
        "outputId": "bed0283f-d0e6-4a90-d4b9-b07237ea8889"
      },
      "execution_count": 31,
      "outputs": [
        {
          "output_type": "stream",
          "name": "stdout",
          "text": [
            "2015\n",
            "1\n",
            "2\n"
          ]
        }
      ]
    },
    {
      "cell_type": "code",
      "source": [
        "#dt 접근자로 date_dt 열에 한번에 접근하여 year 속성을 이용\n",
        "ebola['year'] = ebola['date_dt'].dt.year\n",
        "print(ebola[['Date', 'date_dt', 'year']].head())"
      ],
      "metadata": {
        "colab": {
          "base_uri": "https://localhost:8080/"
        },
        "id": "vVcvOtaKwJGB",
        "outputId": "582a4909-ac91-4766-b871-93fbdd03eef9"
      },
      "execution_count": 32,
      "outputs": [
        {
          "output_type": "stream",
          "name": "stdout",
          "text": [
            "         Date    date_dt  year\n",
            "0    1/5/2015 2015-01-05  2015\n",
            "1    1/4/2015 2015-01-04  2015\n",
            "2    1/3/2015 2015-01-03  2015\n",
            "3    1/2/2015 2015-01-02  2015\n",
            "4  12/31/2014 2014-12-31  2014\n"
          ]
        }
      ]
    },
    {
      "cell_type": "code",
      "source": [
        "#월,일 데이터를 한번에 추출하여 열로 추가\n",
        "ebola['month'], ebola['day'] = (ebola['date_dt'].dt.month, ebola['date_dt'].dt.day)\n",
        "print(ebola[['Date', 'date_dt', 'year', 'month', 'day']].head())"
      ],
      "metadata": {
        "colab": {
          "base_uri": "https://localhost:8080/"
        },
        "id": "wr_yrbpXwe84",
        "outputId": "08220667-51bd-4af8-8093-71c48a9c19ec"
      },
      "execution_count": 34,
      "outputs": [
        {
          "output_type": "stream",
          "name": "stdout",
          "text": [
            "         Date    date_dt  year  month  day\n",
            "0    1/5/2015 2015-01-05  2015      1    5\n",
            "1    1/4/2015 2015-01-04  2015      1    4\n",
            "2    1/3/2015 2015-01-03  2015      1    3\n",
            "3    1/2/2015 2015-01-02  2015      1    2\n",
            "4  12/31/2014 2014-12-31  2014     12   31\n"
          ]
        }
      ]
    },
    {
      "cell_type": "code",
      "source": [
        "#새로 추가한 열의 자료형을 출력\n",
        "#date_df열은 datetime 오브젝트이고 나머지는 정수형\n",
        "\n",
        "print(ebola.info())"
      ],
      "metadata": {
        "colab": {
          "base_uri": "https://localhost:8080/"
        },
        "id": "crPInROmw8UY",
        "outputId": "8021234a-4b90-4dae-dada-461266383daf"
      },
      "execution_count": 35,
      "outputs": [
        {
          "output_type": "stream",
          "name": "stdout",
          "text": [
            "<class 'pandas.core.frame.DataFrame'>\n",
            "RangeIndex: 122 entries, 0 to 121\n",
            "Data columns (total 22 columns):\n",
            " #   Column               Non-Null Count  Dtype         \n",
            "---  ------               --------------  -----         \n",
            " 0   Date                 122 non-null    object        \n",
            " 1   Day                  122 non-null    int64         \n",
            " 2   Cases_Guinea         93 non-null     float64       \n",
            " 3   Cases_Liberia        83 non-null     float64       \n",
            " 4   Cases_SierraLeone    87 non-null     float64       \n",
            " 5   Cases_Nigeria        38 non-null     float64       \n",
            " 6   Cases_Senegal        25 non-null     float64       \n",
            " 7   Cases_UnitedStates   18 non-null     float64       \n",
            " 8   Cases_Spain          16 non-null     float64       \n",
            " 9   Cases_Mali           12 non-null     float64       \n",
            " 10  Deaths_Guinea        92 non-null     float64       \n",
            " 11  Deaths_Liberia       81 non-null     float64       \n",
            " 12  Deaths_SierraLeone   87 non-null     float64       \n",
            " 13  Deaths_Nigeria       38 non-null     float64       \n",
            " 14  Deaths_Senegal       22 non-null     float64       \n",
            " 15  Deaths_UnitedStates  18 non-null     float64       \n",
            " 16  Deaths_Spain         16 non-null     float64       \n",
            " 17  Deaths_Mali          12 non-null     float64       \n",
            " 18  date_dt              122 non-null    datetime64[ns]\n",
            " 19  year                 122 non-null    int32         \n",
            " 20  month                122 non-null    int32         \n",
            " 21  day                  122 non-null    int32         \n",
            "dtypes: datetime64[ns](1), float64(16), int32(3), int64(1), object(1)\n",
            "memory usage: 19.7+ KB\n",
            "None\n"
          ]
        }
      ]
    },
    {
      "cell_type": "markdown",
      "source": [
        "# **시계열 데이터 계산하기**"
      ],
      "metadata": {
        "id": "bHAnQxfQxRw8"
      }
    },
    {
      "cell_type": "code",
      "source": [
        "#시간 순으로 데이터를 살펴보기 위해 데이터프레임의 마지막부터 살펴봄\n",
        "print(ebola.iloc[-5:, :5])"
      ],
      "metadata": {
        "colab": {
          "base_uri": "https://localhost:8080/"
        },
        "id": "EaVx7LDnxWJu",
        "outputId": "0d3ded1e-ad0a-4ce7-8777-55b5317d7234"
      },
      "execution_count": 36,
      "outputs": [
        {
          "output_type": "stream",
          "name": "stdout",
          "text": [
            "          Date  Day  Cases_Guinea  Cases_Liberia  Cases_SierraLeone\n",
            "117  3/27/2014    5         103.0            8.0                6.0\n",
            "118  3/26/2014    4          86.0            NaN                NaN\n",
            "119  3/25/2014    3          86.0            NaN                NaN\n",
            "120  3/24/2014    2          86.0            NaN                NaN\n",
            "121  3/22/2014    0          49.0            NaN                NaN\n"
          ]
        }
      ]
    },
    {
      "cell_type": "code",
      "source": [
        "#min 메서드를 통해 에볼라 최초 발병일을 찾음\n",
        "print(ebola['date_dt'].min())\n",
        "print(type(ebola['date_dt'].min()))"
      ],
      "metadata": {
        "colab": {
          "base_uri": "https://localhost:8080/"
        },
        "id": "NeZOehGExl3F",
        "outputId": "90afff04-5c39-4801-9336-9b6bc002ae93"
      },
      "execution_count": 38,
      "outputs": [
        {
          "output_type": "stream",
          "name": "stdout",
          "text": [
            "2014-03-22 00:00:00\n",
            "<class 'pandas._libs.tslibs.timestamps.Timestamp'>\n"
          ]
        }
      ]
    },
    {
      "cell_type": "code",
      "source": [
        "#date열에서 에볼라 최초 발병일을 빼면 에볼라의 진행정도를 알 수 있음\n",
        "ebola['outbreak_d'] = ebola['date_dt'] - ebola['date_dt'].min()\n",
        "print(ebola[['Date', 'Day', 'outbreak_d']].head())"
      ],
      "metadata": {
        "colab": {
          "base_uri": "https://localhost:8080/"
        },
        "id": "zDnHTJz1yUyf",
        "outputId": "a526d417-dbad-41a0-f315-f25cb5fb5de8"
      },
      "execution_count": 39,
      "outputs": [
        {
          "output_type": "stream",
          "name": "stdout",
          "text": [
            "         Date  Day outbreak_d\n",
            "0    1/5/2015  289   289 days\n",
            "1    1/4/2015  288   288 days\n",
            "2    1/3/2015  287   287 days\n",
            "3    1/2/2015  286   286 days\n",
            "4  12/31/2014  284   284 days\n"
          ]
        }
      ]
    },
    {
      "cell_type": "markdown",
      "source": [
        "**파산한 은행 데이터 분석**"
      ],
      "metadata": {
        "id": "qge9smUYBDL9"
      }
    },
    {
      "cell_type": "code",
      "source": [
        "#파산한 은행 데이터의 집합\n",
        "#Closing Date, Updated Date열의 데이터 자료형이 시계열 데이터임을 알 수 있음\n",
        "\n",
        "banks = pd.read_csv('/content/drive/MyDrive/banklist.csv')\n",
        "print(banks.head())\n"
      ],
      "metadata": {
        "colab": {
          "base_uri": "https://localhost:8080/"
        },
        "id": "NAj1hQW8yum5",
        "outputId": "ccd2e429-c8a0-4128-d0c2-9f60f6c2d33e"
      },
      "execution_count": 45,
      "outputs": [
        {
          "output_type": "stream",
          "name": "stdout",
          "text": [
            "                                           Bank Name                City  ST  \\\n",
            "0                                Fayette County Bank          Saint Elmo  IL   \n",
            "1  Guaranty Bank, (d/b/a BestBank in Georgia & Mi...           Milwaukee  WI   \n",
            "2                                     First NBC Bank         New Orleans  LA   \n",
            "3                                      Proficio Bank  Cottonwood Heights  UT   \n",
            "4                      Seaway Bank and Trust Company             Chicago  IL   \n",
            "\n",
            "    CERT                Acquiring Institution Closing Date Updated Date  \n",
            "0   1802            United Fidelity Bank, fsb    26-May-17     1-Jun-17  \n",
            "1  30003  First-Citizens Bank & Trust Company     5-May-17     1-Jun-17  \n",
            "2  58302                         Whitney Bank    28-Apr-17    23-May-17  \n",
            "3  35495                    Cache Valley Bank     3-Mar-17    18-May-17  \n",
            "4  19328                  State Bank of Texas    27-Jan-17    18-May-17  \n"
          ]
        }
      ]
    },
    {
      "cell_type": "code",
      "source": [
        "#parse_dates 속성을 이용하여 문자열로 저장된 두 열을 datetime 오브젝트로 변환\n",
        "banks_no_dates = pd.read_csv('/content/drive/MyDrive/banklist.csv')\n",
        "print(banks_no_dates.info())"
      ],
      "metadata": {
        "colab": {
          "base_uri": "https://localhost:8080/"
        },
        "id": "ZkvBOu0V8WmW",
        "outputId": "8e2a0be4-696e-4aaa-8819-8b744d20ead7"
      },
      "execution_count": 47,
      "outputs": [
        {
          "output_type": "stream",
          "name": "stdout",
          "text": [
            "<class 'pandas.core.frame.DataFrame'>\n",
            "RangeIndex: 551 entries, 0 to 550\n",
            "Data columns (total 7 columns):\n",
            " #   Column                 Non-Null Count  Dtype \n",
            "---  ------                 --------------  ----- \n",
            " 0   Bank Name              551 non-null    object\n",
            " 1   City                   551 non-null    object\n",
            " 2   ST                     551 non-null    object\n",
            " 3   CERT                   551 non-null    int64 \n",
            " 4   Acquiring Institution  551 non-null    object\n",
            " 5   Closing Date           551 non-null    object\n",
            " 6   Updated Date           551 non-null    object\n",
            "dtypes: int64(1), object(6)\n",
            "memory usage: 30.3+ KB\n",
            "None\n"
          ]
        }
      ]
    },
    {
      "cell_type": "code",
      "source": [
        "banks = pd.read_csv('/content/drive/MyDrive/banklist.csv',parse_dates=[5,6])\n",
        "print(banks.info())"
      ],
      "metadata": {
        "colab": {
          "base_uri": "https://localhost:8080/"
        },
        "id": "W_OGr__b8r_V",
        "outputId": "50017d17-380e-4f10-fe2d-8376d65d5d17"
      },
      "execution_count": 48,
      "outputs": [
        {
          "output_type": "stream",
          "name": "stdout",
          "text": [
            "<class 'pandas.core.frame.DataFrame'>\n",
            "RangeIndex: 551 entries, 0 to 550\n",
            "Data columns (total 7 columns):\n",
            " #   Column                 Non-Null Count  Dtype         \n",
            "---  ------                 --------------  -----         \n",
            " 0   Bank Name              551 non-null    object        \n",
            " 1   City                   551 non-null    object        \n",
            " 2   ST                     551 non-null    object        \n",
            " 3   CERT                   551 non-null    int64         \n",
            " 4   Acquiring Institution  551 non-null    object        \n",
            " 5   Closing Date           551 non-null    datetime64[ns]\n",
            " 6   Updated Date           551 non-null    datetime64[ns]\n",
            "dtypes: datetime64[ns](2), int64(1), object(4)\n",
            "memory usage: 30.3+ KB\n",
            "None\n"
          ]
        },
        {
          "output_type": "stream",
          "name": "stderr",
          "text": [
            "<ipython-input-48-eb39dca4529f>:1: UserWarning: Could not infer format, so each element will be parsed individually, falling back to `dateutil`. To ensure parsing is consistent and as-expected, please specify a format.\n",
            "  banks = pd.read_csv('/content/drive/MyDrive/banklist.csv',parse_dates=[5,6])\n",
            "<ipython-input-48-eb39dca4529f>:1: UserWarning: Could not infer format, so each element will be parsed individually, falling back to `dateutil`. To ensure parsing is consistent and as-expected, please specify a format.\n",
            "  banks = pd.read_csv('/content/drive/MyDrive/banklist.csv',parse_dates=[5,6])\n"
          ]
        }
      ]
    },
    {
      "cell_type": "code",
      "source": [
        "#dt접근자와 quarter속성을 이용하여 은행의 파산한 분기를 알 수 있음\n",
        "banks['closing_quarter'], banks['closing_year'] = (banks['Closing Date'].dt.quarter, banks['Closing Date'].dt.year)\n",
        "print(banks.head())"
      ],
      "metadata": {
        "colab": {
          "base_uri": "https://localhost:8080/"
        },
        "id": "eB2ttlP8_XKU",
        "outputId": "4defb38f-2695-41c6-f25e-a1401c6b5ec2"
      },
      "execution_count": 50,
      "outputs": [
        {
          "output_type": "stream",
          "name": "stdout",
          "text": [
            "                                           Bank Name                City  ST  \\\n",
            "0                                Fayette County Bank          Saint Elmo  IL   \n",
            "1  Guaranty Bank, (d/b/a BestBank in Georgia & Mi...           Milwaukee  WI   \n",
            "2                                     First NBC Bank         New Orleans  LA   \n",
            "3                                      Proficio Bank  Cottonwood Heights  UT   \n",
            "4                      Seaway Bank and Trust Company             Chicago  IL   \n",
            "\n",
            "    CERT                Acquiring Institution Closing Date Updated Date  \\\n",
            "0   1802            United Fidelity Bank, fsb   2017-05-26   2017-06-01   \n",
            "1  30003  First-Citizens Bank & Trust Company   2017-05-05   2017-06-01   \n",
            "2  58302                         Whitney Bank   2017-04-28   2017-05-23   \n",
            "3  35495                    Cache Valley Bank   2017-03-03   2017-05-18   \n",
            "4  19328                  State Bank of Texas   2017-01-27   2017-05-18   \n",
            "\n",
            "   closing_quarter  closing_year  \n",
            "0                2          2017  \n",
            "1                2          2017  \n",
            "2                2          2017  \n",
            "3                1          2017  \n",
            "4                1          2017  \n"
          ]
        }
      ]
    },
    {
      "cell_type": "code",
      "source": [
        "#groupby 메서드를 이용하여 연도별로 파산한 은행의 개수를 구할 수 있음\n",
        "closing_year = banks.groupby(['closing_year']).size()\n",
        "print(closing_year)"
      ],
      "metadata": {
        "colab": {
          "base_uri": "https://localhost:8080/"
        },
        "id": "kE882RSC_ycm",
        "outputId": "ab267ab1-0f09-4106-9083-4d08bc967cc3"
      },
      "execution_count": 53,
      "outputs": [
        {
          "output_type": "stream",
          "name": "stdout",
          "text": [
            "closing_year\n",
            "2000      2\n",
            "2001      3\n",
            "2002     10\n",
            "2003      3\n",
            "2004      4\n",
            "2007      3\n",
            "2008     25\n",
            "2009    140\n",
            "2010    157\n",
            "2011     92\n",
            "2012     51\n",
            "2013     24\n",
            "2014     18\n",
            "2015      8\n",
            "2016      5\n",
            "2017      6\n",
            "dtype: int64\n"
          ]
        }
      ]
    },
    {
      "cell_type": "code",
      "source": [
        "#각 연도별, 분기별 파산한 은행의 개수\n",
        "#banks 데이터프레임을 연도별로 그룹화한 다음 다시 분기별로 그룹화하여 출력\n",
        "closing_year_q = banks.groupby(['closing_year', 'closing_quarter']).size()\n",
        "print(closing_year_q)"
      ],
      "metadata": {
        "colab": {
          "base_uri": "https://localhost:8080/"
        },
        "id": "JupQ8FTtAKlp",
        "outputId": "fd1bd2bd-4e7b-4e1c-eac6-393402addd06"
      },
      "execution_count": 54,
      "outputs": [
        {
          "output_type": "stream",
          "name": "stdout",
          "text": [
            "closing_year  closing_quarter\n",
            "2000          4                   2\n",
            "2001          1                   1\n",
            "              2                   1\n",
            "              3                   1\n",
            "2002          1                   6\n",
            "              2                   1\n",
            "              3                   1\n",
            "              4                   2\n",
            "2003          1                   1\n",
            "              2                   1\n",
            "              4                   1\n",
            "2004          1                   3\n",
            "              2                   1\n",
            "2007          1                   1\n",
            "              3                   1\n",
            "              4                   1\n",
            "2008          1                   2\n",
            "              2                   2\n",
            "              3                   9\n",
            "              4                  12\n",
            "2009          1                  21\n",
            "              2                  24\n",
            "              3                  50\n",
            "              4                  45\n",
            "2010          1                  41\n",
            "              2                  45\n",
            "              3                  41\n",
            "              4                  30\n",
            "2011          1                  26\n",
            "              2                  22\n",
            "              3                  26\n",
            "              4                  18\n",
            "2012          1                  16\n",
            "              2                  15\n",
            "              3                  12\n",
            "              4                   8\n",
            "2013          1                   4\n",
            "              2                  12\n",
            "              3                   6\n",
            "              4                   2\n",
            "2014          1                   5\n",
            "              2                   7\n",
            "              3                   2\n",
            "              4                   4\n",
            "2015          1                   4\n",
            "              2                   1\n",
            "              3                   1\n",
            "              4                   2\n",
            "2016          1                   1\n",
            "              2                   2\n",
            "              3                   2\n",
            "2017          1                   3\n",
            "              2                   3\n",
            "dtype: int64\n"
          ]
        }
      ]
    },
    {
      "cell_type": "code",
      "source": [
        "#그래프\n",
        "import matplotlib.pyplot as plt\n",
        "fig, ax = plt.subplots()\n",
        "ax = closing_year.plot()\n",
        "plt.show()\n",
        "\n",
        "fig, ax = plt.subplots()\n",
        "ax = closing_year_q.plot()\n",
        "plt.show()"
      ],
      "metadata": {
        "colab": {
          "base_uri": "https://localhost:8080/",
          "height": 883
        },
        "id": "FdgQ6dPGAe3q",
        "outputId": "bad7382a-2a68-4548-9254-3513389c8a47"
      },
      "execution_count": 56,
      "outputs": [
        {
          "output_type": "display_data",
          "data": {
            "text/plain": [
              "<Figure size 640x480 with 1 Axes>"
            ],
            "image/png": "[encoded data removed]"
          },
          "metadata": {}
        },
        {
          "output_type": "display_data",
          "data": {
            "text/plain": [
              "<Figure size 640x480 with 1 Axes>"
            ],
            "image/png": "[encoded data removed]"
          },
          "metadata": {}
        }
      ]
    },
    {
      "cell_type": "markdown",
      "source": [
        "테슬라 주식 데이터 분석(시간 계산)"
      ],
      "metadata": {
        "id": "q8VOXdurBGBQ"
      }
    },
    {
      "cell_type": "code",
      "source": [
        "pip install pandas-datareader"
      ],
      "metadata": {
        "colab": {
          "base_uri": "https://localhost:8080/"
        },
        "id": "f032_Yh6BJ5Z",
        "outputId": "a7f41cde-8184-4bdf-de85-5c1293280f47"
      },
      "execution_count": 57,
      "outputs": [
        {
          "output_type": "stream",
          "name": "stdout",
          "text": [
            "Requirement already satisfied: pandas-datareader in /usr/local/lib/python3.10/dist-packages (0.10.0)\n",
            "Requirement already satisfied: lxml in /usr/local/lib/python3.10/dist-packages (from pandas-datareader) (4.9.4)\n",
            "Requirement already satisfied: pandas>=0.23 in /usr/local/lib/python3.10/dist-packages (from pandas-datareader) (2.1.4)\n",
            "Requirement already satisfied: requests>=2.19.0 in /usr/local/lib/python3.10/dist-packages (from pandas-datareader) (2.32.3)\n",
            "Requirement already satisfied: numpy<2,>=1.22.4 in /usr/local/lib/python3.10/dist-packages (from pandas>=0.23->pandas-datareader) (1.26.4)\n",
            "Requirement already satisfied: python-dateutil>=2.8.2 in /usr/local/lib/python3.10/dist-packages (from pandas>=0.23->pandas-datareader) (2.8.2)\n",
            "Requirement already satisfied: pytz>=2020.1 in /usr/local/lib/python3.10/dist-packages (from pandas>=0.23->pandas-datareader) (2024.2)\n",
            "Requirement already satisfied: tzdata>=2022.1 in /usr/local/lib/python3.10/dist-packages (from pandas>=0.23->pandas-datareader) (2024.1)\n",
            "Requirement already satisfied: charset-normalizer<4,>=2 in /usr/local/lib/python3.10/dist-packages (from requests>=2.19.0->pandas-datareader) (3.3.2)\n",
            "Requirement already satisfied: idna<4,>=2.5 in /usr/local/lib/python3.10/dist-packages (from requests>=2.19.0->pandas-datareader) (3.10)\n",
            "Requirement already satisfied: urllib3<3,>=1.21.1 in /usr/local/lib/python3.10/dist-packages (from requests>=2.19.0->pandas-datareader) (2.0.7)\n",
            "Requirement already satisfied: certifi>=2017.4.17 in /usr/local/lib/python3.10/dist-packages (from requests>=2.19.0->pandas-datareader) (2024.8.30)\n",
            "Requirement already satisfied: six>=1.5 in /usr/local/lib/python3.10/dist-packages (from python-dateutil>=2.8.2->pandas>=0.23->pandas-datareader) (1.16.0)\n"
          ]
        }
      ]
    },
    {
      "cell_type": "code",
      "source": [
        "import yfinance as yf\n",
        "\n",
        "tesla = yf.download('TSLA') # 데이터프레임 저장\n",
        "tesla.to_csv('/content/tesla_stock_yfinance.csv')"
      ],
      "metadata": {
        "colab": {
          "base_uri": "https://localhost:8080/"
        },
        "id": "PeVrsnXBCDyA",
        "outputId": "67ae582d-6de8-4523-c756-2d08fc8e24da"
      },
      "execution_count": 62,
      "outputs": [
        {
          "output_type": "stream",
          "name": "stderr",
          "text": [
            "\r[*********************100%***********************]  1 of 1 completed\n"
          ]
        }
      ]
    },
    {
      "cell_type": "code",
      "source": [
        "print(tesla.head())"
      ],
      "metadata": {
        "colab": {
          "base_uri": "https://localhost:8080/"
        },
        "id": "0eOsMWTVChhV",
        "outputId": "735b7521-8162-41a4-8cf0-b4fa01efd4b8"
      },
      "execution_count": 63,
      "outputs": [
        {
          "output_type": "stream",
          "name": "stdout",
          "text": [
            "                Open      High       Low     Close  Adj Close     Volume\n",
            "Date                                                                    \n",
            "2010-06-29  1.266667  1.666667  1.169333  1.592667   1.592667  281494500\n",
            "2010-06-30  1.719333  2.028000  1.553333  1.588667   1.588667  257806500\n",
            "2010-07-01  1.666667  1.728000  1.351333  1.464000   1.464000  123282000\n",
            "2010-07-02  1.533333  1.540000  1.247333  1.280000   1.280000   77097000\n",
            "2010-07-06  1.333333  1.333333  1.055333  1.074000   1.074000  103003500\n"
          ]
        }
      ]
    },
    {
      "cell_type": "code",
      "source": [
        "tesla = pd.read_csv('/content/tesla_stock_yfinance.csv', parse_dates=[0])\n",
        "print(tesla.info())"
      ],
      "metadata": {
        "colab": {
          "base_uri": "https://localhost:8080/"
        },
        "id": "Dt2PE6O1CnBn",
        "outputId": "81bc8839-fc02-4796-c7bd-3ffc63251bc4"
      },
      "execution_count": 64,
      "outputs": [
        {
          "output_type": "stream",
          "name": "stdout",
          "text": [
            "<class 'pandas.core.frame.DataFrame'>\n",
            "RangeIndex: 3582 entries, 0 to 3581\n",
            "Data columns (total 7 columns):\n",
            " #   Column     Non-Null Count  Dtype         \n",
            "---  ------     --------------  -----         \n",
            " 0   Date       3582 non-null   datetime64[ns]\n",
            " 1   Open       3582 non-null   float64       \n",
            " 2   High       3582 non-null   float64       \n",
            " 3   Low        3582 non-null   float64       \n",
            " 4   Close      3582 non-null   float64       \n",
            " 5   Adj Close  3582 non-null   float64       \n",
            " 6   Volume     3582 non-null   int64         \n",
            "dtypes: datetime64[ns](1), float64(5), int64(1)\n",
            "memory usage: 196.0 KB\n",
            "None\n"
          ]
        }
      ]
    },
    {
      "cell_type": "code",
      "source": [
        "#date 열의 자료형이 datetime오브젝트로 변환됨 -> dt 접근자 사용 가능\n",
        "print(tesla.loc[(tesla.Date.dt.year == 2010) & (tesla.Date.dt.month == 6)])"
      ],
      "metadata": {
        "colab": {
          "base_uri": "https://localhost:8080/"
        },
        "id": "NzWOHR5wCywl",
        "outputId": "0f869b63-1de3-4a85-dba5-db2290ffe8e4"
      },
      "execution_count": 65,
      "outputs": [
        {
          "output_type": "stream",
          "name": "stdout",
          "text": [
            "        Date      Open      High       Low     Close  Adj Close     Volume\n",
            "0 2010-06-29  1.266667  1.666667  1.169333  1.592667   1.592667  281494500\n",
            "1 2010-06-30  1.719333  2.028000  1.553333  1.588667   1.588667  257806500\n"
          ]
        }
      ]
    },
    {
      "cell_type": "markdown",
      "source": [
        "# **datetime 오브젝트와 인덱스 - datetimeindex**\n",
        "- datetime 오브젝트를 인덱스롤 지정"
      ],
      "metadata": {
        "id": "u1AZ38QaDCql"
      }
    },
    {
      "cell_type": "code",
      "source": [
        "#date열을 tesla 데이터프레임의 인덱스로 지정\n",
        "tesla.index = tesla['Date']\n",
        "print(tesla.index)"
      ],
      "metadata": {
        "colab": {
          "base_uri": "https://localhost:8080/"
        },
        "id": "lCb_BImdDN_g",
        "outputId": "69a37f36-2884-4e01-9840-9300f4ad6163"
      },
      "execution_count": 66,
      "outputs": [
        {
          "output_type": "stream",
          "name": "stdout",
          "text": [
            "DatetimeIndex(['2010-06-29', '2010-06-30', '2010-07-01', '2010-07-02',\n",
            "               '2010-07-06', '2010-07-07', '2010-07-08', '2010-07-09',\n",
            "               '2010-07-12', '2010-07-13',\n",
            "               ...\n",
            "               '2024-09-09', '2024-09-10', '2024-09-11', '2024-09-12',\n",
            "               '2024-09-13', '2024-09-16', '2024-09-17', '2024-09-18',\n",
            "               '2024-09-19', '2024-09-20'],\n",
            "              dtype='datetime64[ns]', name='Date', length=3582, freq=None)\n"
          ]
        }
      ]
    },
    {
      "cell_type": "code",
      "source": [
        "#datetime 오브젝트를 인덱스로 지정하면 원하는 시간의 데이터를 바로 추출할 수 있음\n",
        "print(tesla.loc['2015'].iloc[:5, :5])"
      ],
      "metadata": {
        "colab": {
          "base_uri": "https://localhost:8080/"
        },
        "id": "mlvJg8FVDXNH",
        "outputId": "03dc1acc-f854-4844-bcb3-b2059ea35bf6"
      },
      "execution_count": 71,
      "outputs": [
        {
          "output_type": "stream",
          "name": "stdout",
          "text": [
            "                 Date       Open       High        Low      Close\n",
            "Date                                                             \n",
            "2015-01-02 2015-01-02  14.858000  14.883333  14.217333  14.620667\n",
            "2015-01-05 2015-01-05  14.303333  14.433333  13.810667  14.006000\n",
            "2015-01-06 2015-01-06  14.004000  14.280000  13.614000  14.085333\n",
            "2015-01-07 2015-01-07  14.223333  14.318667  13.985333  14.063333\n",
            "2015-01-08 2015-01-08  14.187333  14.253333  14.000667  14.041333\n"
          ]
        }
      ]
    },
    {
      "cell_type": "code",
      "source": [
        "print(tesla.loc['2010-06'].iloc[:, :5])"
      ],
      "metadata": {
        "colab": {
          "base_uri": "https://localhost:8080/"
        },
        "id": "LhBMy73REHij",
        "outputId": "792c794c-33f3-4ad7-b693-b4651226621e"
      },
      "execution_count": 72,
      "outputs": [
        {
          "output_type": "stream",
          "name": "stdout",
          "text": [
            "                 Date      Open      High       Low     Close\n",
            "Date                                                         \n",
            "2010-06-29 2010-06-29  1.266667  1.666667  1.169333  1.592667\n",
            "2010-06-30 2010-06-30  1.719333  2.028000  1.553333  1.588667\n"
          ]
        }
      ]
    },
    {
      "cell_type": "markdown",
      "source": [
        "# **시간 간격과 인덱스 - timedeltalndex**\n",
        "- 시간 간격을 인덱스로 지정하여 데이터 추출"
      ],
      "metadata": {
        "id": "H7IKcxg8EQr4"
      }
    },
    {
      "cell_type": "code",
      "source": [
        "#date열에서 최솟값을 뺀 다음 ref_date열로 추가\n",
        "tesla['ref_date'] = tesla['Date'] - tesla['Date'].min()\n",
        "print(tesla.head())"
      ],
      "metadata": {
        "colab": {
          "base_uri": "https://localhost:8080/"
        },
        "id": "xLTUYKNIEbC6",
        "outputId": "a0c40e38-faf2-4574-fc7b-8e5a2312f2bd"
      },
      "execution_count": 73,
      "outputs": [
        {
          "output_type": "stream",
          "name": "stdout",
          "text": [
            "                 Date      Open      High       Low     Close  Adj Close  \\\n",
            "Date                                                                       \n",
            "2010-06-29 2010-06-29  1.266667  1.666667  1.169333  1.592667   1.592667   \n",
            "2010-06-30 2010-06-30  1.719333  2.028000  1.553333  1.588667   1.588667   \n",
            "2010-07-01 2010-07-01  1.666667  1.728000  1.351333  1.464000   1.464000   \n",
            "2010-07-02 2010-07-02  1.533333  1.540000  1.247333  1.280000   1.280000   \n",
            "2010-07-06 2010-07-06  1.333333  1.333333  1.055333  1.074000   1.074000   \n",
            "\n",
            "               Volume ref_date  \n",
            "Date                            \n",
            "2010-06-29  281494500   0 days  \n",
            "2010-06-30  257806500   1 days  \n",
            "2010-07-01  123282000   2 days  \n",
            "2010-07-02   77097000   3 days  \n",
            "2010-07-06  103003500   7 days  \n"
          ]
        }
      ]
    },
    {
      "cell_type": "code",
      "source": [
        "#ref_date를 이용하여 데이터 추출\n",
        "tesla.index = tesla['ref_date']\n",
        "print(tesla.iloc[:5, :5])"
      ],
      "metadata": {
        "colab": {
          "base_uri": "https://localhost:8080/"
        },
        "id": "_uAqnVGKEpw0",
        "outputId": "f5b7c73c-cb0a-4074-d855-75fa97332676"
      },
      "execution_count": 74,
      "outputs": [
        {
          "output_type": "stream",
          "name": "stdout",
          "text": [
            "               Date      Open      High       Low     Close\n",
            "ref_date                                                   \n",
            "0 days   2010-06-29  1.266667  1.666667  1.169333  1.592667\n",
            "1 days   2010-06-30  1.719333  2.028000  1.553333  1.588667\n",
            "2 days   2010-07-01  1.666667  1.728000  1.351333  1.464000\n",
            "3 days   2010-07-02  1.533333  1.540000  1.247333  1.280000\n",
            "7 days   2010-07-06  1.333333  1.333333  1.055333  1.074000\n"
          ]
        }
      ]
    },
    {
      "cell_type": "code",
      "source": [
        "#최초 5일의 데이터 추출\n",
        "print(tesla['5 days':].iloc[:5, :5])"
      ],
      "metadata": {
        "colab": {
          "base_uri": "https://localhost:8080/"
        },
        "id": "_Kc4QiEhE0rf",
        "outputId": "be00fef0-2def-4207-8fac-389a829d8932"
      },
      "execution_count": 75,
      "outputs": [
        {
          "output_type": "stream",
          "name": "stdout",
          "text": [
            "               Date      Open      High       Low     Close\n",
            "ref_date                                                   \n",
            "7 days   2010-07-06  1.333333  1.333333  1.055333  1.074000\n",
            "8 days   2010-07-07  1.093333  1.108667  0.998667  1.053333\n",
            "9 days   2010-07-08  1.076000  1.168000  1.038000  1.164000\n",
            "10 days  2010-07-09  1.172000  1.193333  1.103333  1.160000\n",
            "13 days  2010-07-12  1.196667  1.204667  1.133333  1.136667\n"
          ]
        }
      ]
    },
    {
      "cell_type": "markdown",
      "source": [
        "**시간 범위와 인덱스**\n",
        "- 누락된 데이터를 포함시켜 데이터를 살펴보기 위해서는임의로 시간 범위를 생성하여 인덱스로 지정해야함"
      ],
      "metadata": {
        "id": "y77xGV2lE9zy"
      }
    },
    {
      "cell_type": "code",
      "source": [
        "#에볼라 데이터는 2015/01/01의 데이터가 누락됨\n",
        "ebola = pd.read_csv('/content/drive/MyDrive/country_timeseries.csv', parse_dates=[0])\n",
        "print(ebola.iloc[:5, :5])"
      ],
      "metadata": {
        "colab": {
          "base_uri": "https://localhost:8080/"
        },
        "id": "ylRpDu2dFIdu",
        "outputId": "39a3db59-009f-41c4-8449-24f91d9c3aa5"
      },
      "execution_count": 76,
      "outputs": [
        {
          "output_type": "stream",
          "name": "stdout",
          "text": [
            "        Date  Day  Cases_Guinea  Cases_Liberia  Cases_SierraLeone\n",
            "0 2015-01-05  289        2776.0            NaN            10030.0\n",
            "1 2015-01-04  288        2775.0            NaN             9780.0\n",
            "2 2015-01-03  287        2769.0         8166.0             9722.0\n",
            "3 2015-01-02  286           NaN         8157.0                NaN\n",
            "4 2014-12-31  284        2730.0         8115.0             9633.0\n"
          ]
        }
      ]
    },
    {
      "cell_type": "code",
      "source": [
        "#2014/03/23의 데이터 또한 누락\n",
        "print(ebola.iloc[-5:, :5])"
      ],
      "metadata": {
        "colab": {
          "base_uri": "https://localhost:8080/"
        },
        "id": "aOWOks2AFbT4",
        "outputId": "4351132e-6eca-4bee-84fd-3cbc198f914f"
      },
      "execution_count": 79,
      "outputs": [
        {
          "output_type": "stream",
          "name": "stdout",
          "text": [
            "          Date  Day  Cases_Guinea  Cases_Liberia  Cases_SierraLeone\n",
            "117 2014-03-27    5         103.0            8.0                6.0\n",
            "118 2014-03-26    4          86.0            NaN                NaN\n",
            "119 2014-03-25    3          86.0            NaN                NaN\n",
            "120 2014-03-24    2          86.0            NaN                NaN\n",
            "121 2014-03-22    0          49.0            NaN                NaN\n"
          ]
        }
      ]
    },
    {
      "cell_type": "code",
      "source": [
        "#date_range 메서드를 이용하여 시간 인덱스 생성\n",
        "head_range = pd.date_range(start='2014-12-31', end='2015-01-05')\n",
        "print(head_range)"
      ],
      "metadata": {
        "colab": {
          "base_uri": "https://localhost:8080/"
        },
        "id": "iPHbUy9oFmtw",
        "outputId": "97615843-ad26-400f-991d-b77932683ada"
      },
      "execution_count": 80,
      "outputs": [
        {
          "output_type": "stream",
          "name": "stdout",
          "text": [
            "DatetimeIndex(['2014-12-31', '2015-01-01', '2015-01-02', '2015-01-03',\n",
            "               '2015-01-04', '2015-01-05'],\n",
            "              dtype='datetime64[ns]', freq='D')\n"
          ]
        }
      ]
    },
    {
      "cell_type": "code",
      "source": [
        "#데이터 손상 방지를 위해 데이터프레임의 앞쪽 5개의 데이터를 추출하여 새로운 데이터프레임 생성\n",
        "ebola_5 = ebola.head()\n",
        "ebola_5.index = ebola_5['Date']\n",
        "ebola_5.reindex(head_range)\n",
        "print(ebola_5.iloc[:5, :5])"
      ],
      "metadata": {
        "colab": {
          "base_uri": "https://localhost:8080/"
        },
        "id": "6sQvPcSbFy8M",
        "outputId": "a7715d0d-d051-4d49-915c-d3121f71e37e"
      },
      "execution_count": 81,
      "outputs": [
        {
          "output_type": "stream",
          "name": "stdout",
          "text": [
            "                 Date  Day  Cases_Guinea  Cases_Liberia  Cases_SierraLeone\n",
            "Date                                                                      \n",
            "2015-01-05 2015-01-05  289        2776.0            NaN            10030.0\n",
            "2015-01-04 2015-01-04  288        2775.0            NaN             9780.0\n",
            "2015-01-03 2015-01-03  287        2769.0         8166.0             9722.0\n",
            "2015-01-02 2015-01-02  286           NaN         8157.0                NaN\n",
            "2014-12-31 2014-12-31  284        2730.0         8115.0             9633.0\n"
          ]
        }
      ]
    },
    {
      "cell_type": "markdown",
      "source": [
        "**시간 범위의 주기 설정하기**\n",
        "- 시간 범위를 인덱스로 지정하면 datetimeindex자료형이 만들어짐\n",
        "- datetimeindex에는 freq 속성이 포함되어 있고, freq 속성값을 지정하면 시간 간격을 조절하여 datetimeindex를 만들 수 있음"
      ],
      "metadata": {
        "id": "yek7rHQ7GMtI"
      }
    },
    {
      "cell_type": "code",
      "source": [
        "print(pd.date_range('2017-01-01', '2017-01-07', freq='B'))"
      ],
      "metadata": {
        "colab": {
          "base_uri": "https://localhost:8080/"
        },
        "id": "VSaxtokVGgWi",
        "outputId": "d796dc37-284d-4c8a-ae0f-8d2d7bb0a765"
      },
      "execution_count": 82,
      "outputs": [
        {
          "output_type": "stream",
          "name": "stdout",
          "text": [
            "DatetimeIndex(['2017-01-02', '2017-01-03', '2017-01-04', '2017-01-05',\n",
            "               '2017-01-06'],\n",
            "              dtype='datetime64[ns]', freq='B')\n"
          ]
        }
      ]
    },
    {
      "cell_type": "markdown",
      "source": [
        "# **시간 범위 수정하고 데이터 밀어내기 - shift 메서드**\n"
      ],
      "metadata": {
        "id": "Y1i02u3lGp47"
      }
    },
    {
      "cell_type": "code",
      "source": [
        "#x축을 date열로, y축을 사망자 수로 지정\n",
        "\n",
        "import matplotlib.pyplot as plt\n",
        "ebola.index = ebola['Date']\n",
        "fig, ax = plt.subplots()\n",
        "ax = ebola.iloc[0:, 1:].plot(ax=ax)\n",
        "ax.legend(fontsize=7, loc=2, borderaxespad=0.)\n",
        "plt.show()"
      ],
      "metadata": {
        "colab": {
          "base_uri": "https://localhost:8080/",
          "height": 433
        },
        "id": "zZ6Uy8RtGx6q",
        "outputId": "e2deece8-31d9-4d80-8994-942dd8780557"
      },
      "execution_count": 83,
      "outputs": [
        {
          "output_type": "display_data",
          "data": {
            "text/plain": [
              "<Figure size 640x480 with 1 Axes>"
            ],
            "image/png": "[encoded data removed]"
          },
          "metadata": {}
        }
      ]
    },
    {
      "cell_type": "code",
      "source": [
        "#각 나라의 발병일을 가장 처음 에볼라가 발병한 guinea와 동일한 위치로 옮겨야 제대로 비교할 수 있음\n",
        "ebola_sub = ebola[['Day', 'Cases_Guinea', 'Cases_Liberia']]\n",
        "print(ebola_sub.tail(10))"
      ],
      "metadata": {
        "colab": {
          "base_uri": "https://localhost:8080/"
        },
        "id": "rAQMMc-lHl4U",
        "outputId": "7bca583c-5d36-47a8-cbac-fa1ccfcb1306"
      },
      "execution_count": 85,
      "outputs": [
        {
          "output_type": "stream",
          "name": "stdout",
          "text": [
            "            Day  Cases_Guinea  Cases_Liberia\n",
            "Date                                        \n",
            "2014-04-04   13         143.0           18.0\n",
            "2014-04-01   10         127.0            8.0\n",
            "2014-03-31    9         122.0            8.0\n",
            "2014-03-29    7         112.0            7.0\n",
            "2014-03-28    6         112.0            3.0\n",
            "2014-03-27    5         103.0            8.0\n",
            "2014-03-26    4          86.0            NaN\n",
            "2014-03-25    3          86.0            NaN\n",
            "2014-03-24    2          86.0            NaN\n",
            "2014-03-22    0          49.0            NaN\n"
          ]
        }
      ]
    },
    {
      "cell_type": "code",
      "source": [
        "#존재하지 않는 날짜 데이터까지 포함시켜야 확산 속도를 제대로 비교할 수 있음\n",
        "ebola = pd.read_csv('/content/drive/MyDrive/country_timeseries.csv',parse_dates=['Date'])\n",
        "print(ebola.head().iloc[:, :5])\n",
        "print(ebola.tail().iloc[:, :5])"
      ],
      "metadata": {
        "colab": {
          "base_uri": "https://localhost:8080/"
        },
        "id": "BQJvUJDRH7J0",
        "outputId": "19350e95-a232-4225-fac6-bd649ea3fddd"
      },
      "execution_count": 101,
      "outputs": [
        {
          "output_type": "stream",
          "name": "stdout",
          "text": [
            "        Date  Day  Cases_Guinea  Cases_Liberia  Cases_SierraLeone\n",
            "0 2015-01-05  289        2776.0            NaN            10030.0\n",
            "1 2015-01-04  288        2775.0            NaN             9780.0\n",
            "2 2015-01-03  287        2769.0         8166.0             9722.0\n",
            "3 2015-01-02  286           NaN         8157.0                NaN\n",
            "4 2014-12-31  284        2730.0         8115.0             9633.0\n",
            "          Date  Day  Cases_Guinea  Cases_Liberia  Cases_SierraLeone\n",
            "117 2014-03-27    5         103.0            8.0                6.0\n",
            "118 2014-03-26    4          86.0            NaN                NaN\n",
            "119 2014-03-25    3          86.0            NaN                NaN\n",
            "120 2014-03-24    2          86.0            NaN                NaN\n",
            "121 2014-03-22    0          49.0            NaN                NaN\n"
          ]
        }
      ]
    },
    {
      "cell_type": "code",
      "source": [
        "#date열의 최댓값과 최솟값으로 시간 범위를 생성하여 new_idx에 저장 -> 날짜가 아예 없었던 데이터의 인덱스를 생성할 수 있음\n",
        "ebola.index = ebola['Date']\n",
        "new_idx = pd.date_range(ebola.index.min(), ebola.index.max())"
      ],
      "metadata": {
        "id": "biGo2quQIVZ5"
      },
      "execution_count": 102,
      "outputs": []
    },
    {
      "cell_type": "code",
      "source": [
        "#시간 순서를 맞추기 위해 reversed 메서드를 사용\n",
        "print(new_idx)"
      ],
      "metadata": {
        "colab": {
          "base_uri": "https://localhost:8080/"
        },
        "id": "R696nTftIveQ",
        "outputId": "5e67ba1c-c8c2-4f7e-b826-68f9f50fac0d"
      },
      "execution_count": 103,
      "outputs": [
        {
          "output_type": "stream",
          "name": "stdout",
          "text": [
            "DatetimeIndex(['2014-03-22', '2014-03-23', '2014-03-24', '2014-03-25',\n",
            "               '2014-03-26', '2014-03-27', '2014-03-28', '2014-03-29',\n",
            "               '2014-03-30', '2014-03-31',\n",
            "               ...\n",
            "               '2014-12-27', '2014-12-28', '2014-12-29', '2014-12-30',\n",
            "               '2014-12-31', '2015-01-01', '2015-01-02', '2015-01-03',\n",
            "               '2015-01-04', '2015-01-05'],\n",
            "              dtype='datetime64[ns]', length=290, freq='D')\n"
          ]
        }
      ]
    },
    {
      "cell_type": "code",
      "source": [
        "new_idx = reversed(new_idx)"
      ],
      "metadata": {
        "id": "BFGtGctZI3ya"
      },
      "execution_count": 104,
      "outputs": []
    },
    {
      "cell_type": "code",
      "source": [
        "#reindex 메서드를 이용하여 새로 생성한 인덱스를 새로운 인덱스로 지정\n",
        "ebola = ebola.reindex(new_idx)\n",
        "print(ebola.head().iloc[:, :5])"
      ],
      "metadata": {
        "colab": {
          "base_uri": "https://localhost:8080/"
        },
        "id": "-du1NqKnI71i",
        "outputId": "a7d3a80b-bda4-49cf-9435-6e93a126c879"
      },
      "execution_count": 105,
      "outputs": [
        {
          "output_type": "stream",
          "name": "stdout",
          "text": [
            "                 Date    Day  Cases_Guinea  Cases_Liberia  Cases_SierraLeone\n",
            "Date                                                                        \n",
            "2015-01-05 2015-01-05  289.0        2776.0            NaN            10030.0\n",
            "2015-01-04 2015-01-04  288.0        2775.0            NaN             9780.0\n",
            "2015-01-03 2015-01-03  287.0        2769.0         8166.0             9722.0\n",
            "2015-01-02 2015-01-02  286.0           NaN         8157.0                NaN\n",
            "2015-01-01        NaT    NaN           NaN            NaN                NaN\n"
          ]
        }
      ]
    },
    {
      "cell_type": "code",
      "source": [
        "print(ebola.tail().iloc[:, :5])"
      ],
      "metadata": {
        "colab": {
          "base_uri": "https://localhost:8080/"
        },
        "id": "GS1hcWj8Jf7n",
        "outputId": "48018258-ff08-4fa2-eb3a-8e991625a680"
      },
      "execution_count": 106,
      "outputs": [
        {
          "output_type": "stream",
          "name": "stdout",
          "text": [
            "                 Date  Day  Cases_Guinea  Cases_Liberia  Cases_SierraLeone\n",
            "Date                                                                      \n",
            "2014-03-26 2014-03-26  4.0          86.0            NaN                NaN\n",
            "2014-03-25 2014-03-25  3.0          86.0            NaN                NaN\n",
            "2014-03-24 2014-03-24  2.0          86.0            NaN                NaN\n",
            "2014-03-23        NaT  NaN           NaN            NaN                NaN\n",
            "2014-03-22 2014-03-22  0.0          49.0            NaN                NaN\n"
          ]
        }
      ]
    },
    {
      "cell_type": "code",
      "source": [
        "#last_valid_index, first_valid_index메서드를 사용하여 각 나라의 에볼라 발병일을 구함\n",
        "last_valid = ebola.apply(pd.Series.last_valid_index)\n",
        "print(last_valid)"
      ],
      "metadata": {
        "colab": {
          "base_uri": "https://localhost:8080/"
        },
        "id": "AcdOg21QJh1q",
        "outputId": "a54c48d4-bf92-43e4-e7c4-11012b36cb27"
      },
      "execution_count": 120,
      "outputs": [
        {
          "output_type": "stream",
          "name": "stdout",
          "text": [
            "Date                  2014-03-22\n",
            "Day                   2014-03-22\n",
            "Cases_Guinea          2014-03-22\n",
            "Cases_Liberia         2014-03-27\n",
            "Cases_SierraLeone     2014-03-27\n",
            "Cases_Nigeria         2014-07-23\n",
            "Cases_Senegal         2014-08-31\n",
            "Cases_UnitedStates    2014-10-01\n",
            "Cases_Spain           2014-10-08\n",
            "Cases_Mali            2014-10-22\n",
            "Deaths_Guinea         2014-03-22\n",
            "Deaths_Liberia        2014-03-27\n",
            "Deaths_SierraLeone    2014-03-27\n",
            "Deaths_Nigeria        2014-07-23\n",
            "Deaths_Senegal        2014-09-07\n",
            "Deaths_UnitedStates   2014-10-01\n",
            "Deaths_Spain          2014-10-08\n",
            "Deaths_Mali           2014-10-22\n",
            "dtype: datetime64[ns]\n"
          ]
        }
      ]
    },
    {
      "cell_type": "code",
      "source": [
        "first_valid = ebola.apply(pd.Series.first_valid_index)\n",
        "print(first_valid)"
      ],
      "metadata": {
        "colab": {
          "base_uri": "https://localhost:8080/"
        },
        "id": "oY_zVmR2JyW5",
        "outputId": "eb50c7e3-7630-4dd1-b585-fb5cb8fd5e60"
      },
      "execution_count": 121,
      "outputs": [
        {
          "output_type": "stream",
          "name": "stdout",
          "text": [
            "Date                  2015-01-05\n",
            "Day                   2015-01-05\n",
            "Cases_Guinea          2015-01-05\n",
            "Cases_Liberia         2015-01-03\n",
            "Cases_SierraLeone     2015-01-05\n",
            "Cases_Nigeria         2014-12-07\n",
            "Cases_Senegal         2014-12-07\n",
            "Cases_UnitedStates    2014-12-07\n",
            "Cases_Spain           2014-12-07\n",
            "Cases_Mali            2014-12-07\n",
            "Deaths_Guinea         2015-01-05\n",
            "Deaths_Liberia        2015-01-03\n",
            "Deaths_SierraLeone    2015-01-05\n",
            "Deaths_Nigeria        2014-12-07\n",
            "Deaths_Senegal        2014-12-07\n",
            "Deaths_UnitedStates   2014-12-07\n",
            "Deaths_Spain          2014-12-07\n",
            "Deaths_Mali           2014-12-07\n",
            "dtype: datetime64[ns]\n"
          ]
        }
      ]
    },
    {
      "cell_type": "code",
      "source": [
        "earliest_date = ebola.index.min()\n",
        "print(earliest_date)\n",
        "\n",
        "shift_values = last_valid - earliest_date\n",
        "print(shift_values)"
      ],
      "metadata": {
        "colab": {
          "base_uri": "https://localhost:8080/"
        },
        "id": "Vtd2qE-eMJVt",
        "outputId": "d0569605-555f-4675-835c-a25d1010c4a9"
      },
      "execution_count": 126,
      "outputs": [
        {
          "output_type": "stream",
          "name": "stdout",
          "text": [
            "2014-03-22 00:00:00\n",
            "Date                    0 days\n",
            "Day                     0 days\n",
            "Cases_Guinea            0 days\n",
            "Cases_Liberia           5 days\n",
            "Cases_SierraLeone       5 days\n",
            "Cases_Nigeria         123 days\n",
            "Cases_Senegal         162 days\n",
            "Cases_UnitedStates    193 days\n",
            "Cases_Spain           200 days\n",
            "Cases_Mali            214 days\n",
            "Deaths_Guinea           0 days\n",
            "Deaths_Liberia          5 days\n",
            "Deaths_SierraLeone      5 days\n",
            "Deaths_Nigeria        123 days\n",
            "Deaths_Senegal        169 days\n",
            "Deaths_UnitedStates   193 days\n",
            "Deaths_Spain          200 days\n",
            "Deaths_Mali           214 days\n",
            "dtype: timedelta64[ns]\n"
          ]
        }
      ]
    },
    {
      "cell_type": "code",
      "source": [
        "ebola_dict = {}\n",
        "for idx, col in enumerate(ebola):\n",
        "  d = shift_values[idx].days\n",
        "  shifted = ebola[col].shift(d)\n",
        "  ebola_dict[col] = shifted"
      ],
      "metadata": {
        "colab": {
          "base_uri": "https://localhost:8080/"
        },
        "id": "G16MdbECMOD_",
        "outputId": "c98f6d55-e9b1-48c5-dc82-4036e1382770"
      },
      "execution_count": 130,
      "outputs": [
        {
          "output_type": "stream",
          "name": "stderr",
          "text": [
            "<ipython-input-130-a7363186ba3f>:3: FutureWarning: Series.__getitem__ treating keys as positions is deprecated. In a future version, integer keys will always be treated as labels (consistent with DataFrame behavior). To access a value by position, use `ser.iloc[pos]`\n",
            "  d = shift_values[idx].days\n"
          ]
        }
      ]
    },
    {
      "cell_type": "code",
      "source": [
        "ebola_shift = pd.DataFrame(ebola_dict)"
      ],
      "metadata": {
        "id": "mnB1zuB6KTqa"
      },
      "execution_count": 131,
      "outputs": []
    },
    {
      "cell_type": "code",
      "source": [
        "print(ebola_shift.tail())"
      ],
      "metadata": {
        "colab": {
          "base_uri": "https://localhost:8080/"
        },
        "id": "pUJosBijLhWA",
        "outputId": "753e80ed-624b-4a54-ff32-37e5051cde80"
      },
      "execution_count": 132,
      "outputs": [
        {
          "output_type": "stream",
          "name": "stdout",
          "text": [
            "                 Date  Day  Cases_Guinea  Cases_Liberia  Cases_SierraLeone  \\\n",
            "Date                                                                         \n",
            "2014-03-26 2014-03-26  4.0          86.0            8.0                2.0   \n",
            "2014-03-25 2014-03-25  3.0          86.0            NaN                NaN   \n",
            "2014-03-24 2014-03-24  2.0          86.0            7.0                NaN   \n",
            "2014-03-23        NaT  NaN           NaN            3.0                2.0   \n",
            "2014-03-22 2014-03-22  0.0          49.0            8.0                6.0   \n",
            "\n",
            "            Cases_Nigeria  Cases_Senegal  Cases_UnitedStates  Cases_Spain  \\\n",
            "Date                                                                        \n",
            "2014-03-26            1.0            NaN                 1.0          1.0   \n",
            "2014-03-25            NaN            NaN                 NaN          NaN   \n",
            "2014-03-24            NaN            NaN                 NaN          NaN   \n",
            "2014-03-23            NaN            NaN                 NaN          NaN   \n",
            "2014-03-22            0.0            1.0                 1.0          1.0   \n",
            "\n",
            "            Cases_Mali  Deaths_Guinea  Deaths_Liberia  Deaths_SierraLeone  \\\n",
            "Date                                                                        \n",
            "2014-03-26         NaN           62.0             4.0                 2.0   \n",
            "2014-03-25         NaN           60.0             NaN                 NaN   \n",
            "2014-03-24         NaN           59.0             2.0                 NaN   \n",
            "2014-03-23         NaN            NaN             3.0                 2.0   \n",
            "2014-03-22         1.0           29.0             6.0                 5.0   \n",
            "\n",
            "            Deaths_Nigeria  Deaths_Senegal  Deaths_UnitedStates  Deaths_Spain  \\\n",
            "Date                                                                            \n",
            "2014-03-26             1.0             NaN                  0.0           1.0   \n",
            "2014-03-25             NaN             NaN                  NaN           NaN   \n",
            "2014-03-24             NaN             NaN                  NaN           NaN   \n",
            "2014-03-23             NaN             NaN                  NaN           NaN   \n",
            "2014-03-22             0.0             0.0                  0.0           1.0   \n",
            "\n",
            "            Deaths_Mali  \n",
            "Date                     \n",
            "2014-03-26          NaN  \n",
            "2014-03-25          NaN  \n",
            "2014-03-24          NaN  \n",
            "2014-03-23          NaN  \n",
            "2014-03-22          1.0  \n"
          ]
        }
      ]
    },
    {
      "cell_type": "code",
      "source": [
        "ebola_shift.indwx = ebola_shift['Day']\n",
        "ebola_shift = ebola_shift.drop(['Date', 'Day'],axis=1)\n",
        "\n",
        "print(ebola_shift.tail())"
      ],
      "metadata": {
        "colab": {
          "base_uri": "https://localhost:8080/"
        },
        "id": "y8-pVXxPMYrT",
        "outputId": "cc05c300-08d5-4fbb-a4bd-ae6460890c9a"
      },
      "execution_count": 133,
      "outputs": [
        {
          "output_type": "stream",
          "name": "stdout",
          "text": [
            "            Cases_Guinea  Cases_Liberia  Cases_SierraLeone  Cases_Nigeria  \\\n",
            "Date                                                                        \n",
            "2014-03-26          86.0            8.0                2.0            1.0   \n",
            "2014-03-25          86.0            NaN                NaN            NaN   \n",
            "2014-03-24          86.0            7.0                NaN            NaN   \n",
            "2014-03-23           NaN            3.0                2.0            NaN   \n",
            "2014-03-22          49.0            8.0                6.0            0.0   \n",
            "\n",
            "            Cases_Senegal  Cases_UnitedStates  Cases_Spain  Cases_Mali  \\\n",
            "Date                                                                     \n",
            "2014-03-26            NaN                 1.0          1.0         NaN   \n",
            "2014-03-25            NaN                 NaN          NaN         NaN   \n",
            "2014-03-24            NaN                 NaN          NaN         NaN   \n",
            "2014-03-23            NaN                 NaN          NaN         NaN   \n",
            "2014-03-22            1.0                 1.0          1.0         1.0   \n",
            "\n",
            "            Deaths_Guinea  Deaths_Liberia  Deaths_SierraLeone  Deaths_Nigeria  \\\n",
            "Date                                                                            \n",
            "2014-03-26           62.0             4.0                 2.0             1.0   \n",
            "2014-03-25           60.0             NaN                 NaN             NaN   \n",
            "2014-03-24           59.0             2.0                 NaN             NaN   \n",
            "2014-03-23            NaN             3.0                 2.0             NaN   \n",
            "2014-03-22           29.0             6.0                 5.0             0.0   \n",
            "\n",
            "            Deaths_Senegal  Deaths_UnitedStates  Deaths_Spain  Deaths_Mali  \n",
            "Date                                                                        \n",
            "2014-03-26             NaN                  0.0           1.0          NaN  \n",
            "2014-03-25             NaN                  NaN           NaN          NaN  \n",
            "2014-03-24             NaN                  NaN           NaN          NaN  \n",
            "2014-03-23             NaN                  NaN           NaN          NaN  \n",
            "2014-03-22             0.0                  0.0           1.0          1.0  \n"
          ]
        },
        {
          "output_type": "stream",
          "name": "stderr",
          "text": [
            "<ipython-input-133-2d1a79a297a5>:1: UserWarning: Pandas doesn't allow columns to be created via a new attribute name - see https://pandas.pydata.org/pandas-docs/stable/indexing.html#attribute-access\n",
            "  ebola_shift.indwx = ebola_shift['Day']\n"
          ]
        }
      ]
    },
    {
      "cell_type": "code",
      "source": [
        "fig, ax = plt.subplots()\n",
        "ax = ebola_shift.iloc[:, :].plot(ax=ax)\n",
        "ax.legend(fontsize=7, loc=2, borderaxespad=0.)\n",
        "plt.show()"
      ],
      "metadata": {
        "colab": {
          "base_uri": "https://localhost:8080/",
          "height": 466
        },
        "id": "zmfs2M2aMo4M",
        "outputId": "fead9ded-d7a9-43f3-819b-2bd7fb9001aa"
      },
      "execution_count": 134,
      "outputs": [
        {
          "output_type": "display_data",
          "data": {
            "text/plain": [
              "<Figure size 640x480 with 1 Axes>"
            ],
            "image/png": "[encoded data removed]"
          },
          "metadata": {}
        }
      ]
    }
  ]
}