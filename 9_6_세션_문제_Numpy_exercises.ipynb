{
  "nbformat": 4,
  "nbformat_minor": 5,
  "metadata": {
    "colab": {
      "provenance": [],
      "include_colab_link": true
    },
    "language_info": {
      "name": "python"
    },
    "kernelspec": {
      "name": "python3",
      "display_name": "Python 3"
    }
  },
  "cells": [
    {
      "cell_type": "markdown",
      "metadata": {
        "id": "view-in-github",
        "colab_type": "text"
      },
      "source": [
        "<a href=\"https://colab.research.google.com/github/hamiin47/Assignment/blob/main/9_6_%EC%84%B8%EC%85%98_%EB%AC%B8%EC%A0%9C_Numpy_exercises.ipynb\" target=\"_parent\"><img src=\"https://colab.research.google.com/assets/colab-badge.svg\" alt=\"Open In Colab\"/></a>"
      ]
    },
    {
      "cell_type": "markdown",
      "metadata": {
        "id": "bf79c78b"
      },
      "source": [
        "# Numpy exercises\n",
        "\n",
        "This is a collection of exercises that have been collected in the numpy mailing list, on stack overflow\n",
        "and in the numpy documentation. The goal of this collection is to offer a quick reference for both old\n",
        "and new users but also to provide a set of exercises for those who teach.\n",
        "\n",
        "\n",
        "If you find an error or think you've a better way to solve some of them, feel\n",
        "free to open an issue at <https://github.com/rougier/numpy-100>."
      ],
      "id": "bf79c78b"
    },
    {
      "cell_type": "markdown",
      "metadata": {
        "id": "8536e059"
      },
      "source": [
        "File automatically generated. See the documentation to update questions/answers/hints programmatically."
      ],
      "id": "8536e059"
    },
    {
      "cell_type": "markdown",
      "metadata": {
        "id": "78250c14"
      },
      "source": [
        "#### 21. Multiply a 5x3 matrix by a 3x2 matrix (real matrix product) (★☆☆)"
      ],
      "id": "78250c14"
    },
    {
      "cell_type": "code",
      "metadata": {
        "id": "9fe729cb",
        "colab": {
          "base_uri": "https://localhost:8080/"
        },
        "outputId": "f5448918-a335-4769-9bee-2f83b7d58c85"
      },
      "source": [
        "import numpy as np\n",
        "\n",
        "A = np.random.random((5,3))\n",
        "B = np.random.random((3,2))\n",
        "\n",
        "np.dot(A,B)"
      ],
      "id": "9fe729cb",
      "execution_count": 1,
      "outputs": [
        {
          "output_type": "execute_result",
          "data": {
            "text/plain": [
              "array([[0.2382624 , 0.30367935],\n",
              "       [0.84780191, 0.72034898],\n",
              "       [0.79979645, 0.54352448],\n",
              "       [1.39671283, 1.03270475],\n",
              "       [1.15455543, 0.73616396]])"
            ]
          },
          "metadata": {},
          "execution_count": 1
        }
      ]
    },
    {
      "cell_type": "markdown",
      "metadata": {
        "id": "51898680"
      },
      "source": [
        "#### 22. Given a 1D array, negate all elements which are between 3 and 8, in place. (★☆☆)"
      ],
      "id": "51898680"
    },
    {
      "cell_type": "code",
      "metadata": {
        "id": "51c90f2d",
        "colab": {
          "base_uri": "https://localhost:8080/"
        },
        "outputId": "f76c1220-1ec6-4e54-fd7f-efd4c2556820"
      },
      "source": [
        "import numpy as np\n",
        "\n",
        "A=np.arange(10)\n",
        "print(A)\n",
        "A[(3<A)&(A<8)] = A[(3<A)&(A<8)]*-1\n",
        "print(A)\n"
      ],
      "id": "51c90f2d",
      "execution_count": 4,
      "outputs": [
        {
          "output_type": "stream",
          "name": "stdout",
          "text": [
            "[0 1 2 3 4 5 6 7 8 9]\n",
            "[ 0  1  2  3 -4 -5 -6 -7  8  9]\n"
          ]
        }
      ]
    },
    {
      "cell_type": "markdown",
      "metadata": {
        "id": "89e78048"
      },
      "source": [
        "#### 23. What is the output of the following script? (★☆☆)\n",
        "```python\n",
        "# Author: Jake VanderPlas\n",
        "\n",
        "print(sum(range(5),-1))\n",
        "from numpy import *\n",
        "print(sum(range(5),-1))\n",
        "```"
      ],
      "id": "89e78048"
    },
    {
      "cell_type": "markdown",
      "source": [
        "9\n",
        "10"
      ],
      "metadata": {
        "id": "0DkrFvO0lvsh"
      },
      "id": "0DkrFvO0lvsh"
    },
    {
      "cell_type": "markdown",
      "source": [
        "- 0,1,2,3,4를 합한 값에 -1을 더함\n",
        "- -1이 축 역할을 하나 축을 가지지 않기 때문에 10"
      ],
      "metadata": {
        "id": "m0oIospNEUQb"
      },
      "id": "m0oIospNEUQb"
    },
    {
      "cell_type": "markdown",
      "metadata": {
        "id": "ebd10810"
      },
      "source": [
        "#### 24. Consider an integer vector Z, which of these expressions are legal? (★☆☆)\n",
        "```python\n",
        "Z**Z\n",
        "2 << Z >> 2\n",
        "Z <- Z\n",
        "1j*Z\n",
        "Z/1/1\n",
        "Z<Z>Z\n",
        "```"
      ],
      "id": "ebd10810"
    },
    {
      "cell_type": "markdown",
      "source": [
        "- legal : Z**Z, 2 << Z >> 2,1j*Z, Z/1/1\n",
        "- illegal : Z <- Z, Z < Z > Z\n",
        "- <- 는 파이썬의 대입 연산자가 아님"
      ],
      "metadata": {
        "id": "zB19Tn3EEiQr"
      },
      "id": "zB19Tn3EEiQr"
    },
    {
      "cell_type": "markdown",
      "metadata": {
        "id": "c0e940f8"
      },
      "source": [
        "#### 25. What are the result of the following expressions? (★☆☆)\n",
        "```python\n",
        "np.array(0) / np.array(0)\n",
        "np.array(0) // np.array(0)\n",
        "np.array([np.nan]).astype(int).astype(float)\n",
        "```"
      ],
      "id": "c0e940f8"
    },
    {
      "cell_type": "code",
      "source": [
        "np.array(0) / np.array(0)"
      ],
      "metadata": {
        "colab": {
          "base_uri": "https://localhost:8080/"
        },
        "id": "g3Sa4upAyPWd",
        "outputId": "13aa14d2-66f6-4418-b46a-54f80a11f3b1"
      },
      "id": "g3Sa4upAyPWd",
      "execution_count": null,
      "outputs": [
        {
          "output_type": "stream",
          "name": "stderr",
          "text": [
            "<ipython-input-30-3585dcb7ab9b>:1: RuntimeWarning: invalid value encountered in divide\n",
            "  np.array(0) / np.array(0)\n"
          ]
        },
        {
          "output_type": "execute_result",
          "data": {
            "text/plain": [
              "nan"
            ]
          },
          "metadata": {},
          "execution_count": 30
        }
      ]
    },
    {
      "cell_type": "code",
      "source": [
        "np.array(0) // np.array(0)"
      ],
      "metadata": {
        "colab": {
          "base_uri": "https://localhost:8080/"
        },
        "id": "5gx-Ds4kySN4",
        "outputId": "cffc6ed6-43fb-4814-ea2a-b755e284eb2d"
      },
      "id": "5gx-Ds4kySN4",
      "execution_count": null,
      "outputs": [
        {
          "output_type": "stream",
          "name": "stderr",
          "text": [
            "<ipython-input-31-4764261090d0>:1: RuntimeWarning: divide by zero encountered in floor_divide\n",
            "  np.array(0) // np.array(0)\n"
          ]
        },
        {
          "output_type": "execute_result",
          "data": {
            "text/plain": [
              "0"
            ]
          },
          "metadata": {},
          "execution_count": 31
        }
      ]
    },
    {
      "cell_type": "code",
      "metadata": {
        "id": "820dc7a5",
        "colab": {
          "base_uri": "https://localhost:8080/"
        },
        "outputId": "02f0f29e-b788-47d3-9f6f-eabe61f102f6"
      },
      "source": [
        "np.array([np.nan]).astype(int).astype(float)"
      ],
      "id": "820dc7a5",
      "execution_count": null,
      "outputs": [
        {
          "output_type": "stream",
          "name": "stderr",
          "text": [
            "<ipython-input-32-ea171f4782f5>:1: RuntimeWarning: invalid value encountered in cast\n",
            "  np.array([np.nan]).astype(int).astype(float)\n"
          ]
        },
        {
          "output_type": "execute_result",
          "data": {
            "text/plain": [
              "array([-9.22337204e+18])"
            ]
          },
          "metadata": {},
          "execution_count": 32
        }
      ]
    },
    {
      "cell_type": "markdown",
      "source": [
        "1. 0으로 나누는 것은 정의되지 않기 때문에 nan\n",
        "2. 0으로 나누는 것은 정의되지 않기 때문에 nan\n",
        "3. nan의 형태를 변환할 수 없으므로 오류"
      ],
      "metadata": {
        "id": "dqrd4JWOFLYd"
      },
      "id": "dqrd4JWOFLYd"
    },
    {
      "cell_type": "markdown",
      "metadata": {
        "id": "f1ae2c2d"
      },
      "source": [
        "#### 26. How to find common values between two arrays? (★☆☆)\n",
        "```python\n",
        "Z1 = np.random.randint(0,10,10)\n",
        "Z2 = np.random.randint(0,10,10)\n",
        "```\n",
        "Hint : use `numpy.random.randint(start, end, size)`"
      ],
      "id": "f1ae2c2d"
    },
    {
      "cell_type": "code",
      "metadata": {
        "id": "6801c73d",
        "colab": {
          "base_uri": "https://localhost:8080/"
        },
        "outputId": "ba397920-9421-4602-847a-325e017a013c"
      },
      "source": [
        "Z1 = np.random.randint(0, 10, 10)\n",
        "Z2 = np.random.randint(0, 10, 10)\n",
        "\n",
        "common_values = np.intersect1d(Z1, Z2)\n",
        "print(\"Z1:\", Z1)\n",
        "print(\"Z2:\", Z2)\n",
        "print(\"common_values:\", common_values)"
      ],
      "id": "6801c73d",
      "execution_count": 7,
      "outputs": [
        {
          "output_type": "stream",
          "name": "stdout",
          "text": [
            "Z1: [4 5 1 2 2 6 0 1 7 2]\n",
            "Z2: [1 9 4 3 5 4 1 7 5 5]\n",
            "common_values: [1 4 5 7]\n"
          ]
        }
      ]
    },
    {
      "cell_type": "markdown",
      "metadata": {
        "id": "37bc0973"
      },
      "source": [
        "#### 27. Is the following expressions true? (★☆☆)\n",
        "```python\n",
        "np.sqrt(-1) == np.emath.sqrt(-1)\n",
        "```"
      ],
      "id": "37bc0973"
    },
    {
      "cell_type": "code",
      "source": [
        "np.sqrt(-1) == np.emath.sqrt(-1)\n",
        "np.sqrt(-1)\n",
        "np.emath.sqrt(-1)"
      ],
      "metadata": {
        "colab": {
          "base_uri": "https://localhost:8080/"
        },
        "id": "gW5D3w07Fnt2",
        "outputId": "74d1fe26-873c-4b94-a88c-560c274b1f13"
      },
      "id": "gW5D3w07Fnt2",
      "execution_count": 8,
      "outputs": [
        {
          "output_type": "stream",
          "name": "stderr",
          "text": [
            "<ipython-input-8-deadca2c2cb6>:1: RuntimeWarning: invalid value encountered in sqrt\n",
            "  np.sqrt(-1) == np.emath.sqrt(-1)\n",
            "<ipython-input-8-deadca2c2cb6>:2: RuntimeWarning: invalid value encountered in sqrt\n",
            "  np.sqrt(-1)\n"
          ]
        },
        {
          "output_type": "execute_result",
          "data": {
            "text/plain": [
              "1j"
            ]
          },
          "metadata": {},
          "execution_count": 8
        }
      ]
    },
    {
      "cell_type": "markdown",
      "source": [
        "False np.sqrt(-1)는 nan을 반환, np.emath.sqrt(-1)는 복소수 1j를 반환"
      ],
      "metadata": {
        "id": "aIMfnw94FmwR"
      },
      "id": "aIMfnw94FmwR"
    },
    {
      "cell_type": "markdown",
      "metadata": {
        "id": "42f8b2f9"
      },
      "source": [
        "#### 28. How to get all the dates corresponding to the month of July 2016? (★★☆)\n",
        "Hint : modify the code below\n",
        "```python\n",
        "Z = np.arange('start', 'end', dtype='datetime64[D]')\n",
        "```"
      ],
      "id": "42f8b2f9"
    },
    {
      "cell_type": "code",
      "source": [
        "dates = np.arange('2016-07-01', '2016-08-01', dtype='datetime64[D]')\n",
        "\n",
        "print(dates)"
      ],
      "metadata": {
        "id": "3kkl01x3x0NF",
        "colab": {
          "base_uri": "https://localhost:8080/"
        },
        "outputId": "36103cce-87ce-4860-c0bf-6629d9522c95"
      },
      "id": "3kkl01x3x0NF",
      "execution_count": 9,
      "outputs": [
        {
          "output_type": "stream",
          "name": "stdout",
          "text": [
            "['2016-07-01' '2016-07-02' '2016-07-03' '2016-07-04' '2016-07-05'\n",
            " '2016-07-06' '2016-07-07' '2016-07-08' '2016-07-09' '2016-07-10'\n",
            " '2016-07-11' '2016-07-12' '2016-07-13' '2016-07-14' '2016-07-15'\n",
            " '2016-07-16' '2016-07-17' '2016-07-18' '2016-07-19' '2016-07-20'\n",
            " '2016-07-21' '2016-07-22' '2016-07-23' '2016-07-24' '2016-07-25'\n",
            " '2016-07-26' '2016-07-27' '2016-07-28' '2016-07-29' '2016-07-30'\n",
            " '2016-07-31']\n"
          ]
        }
      ]
    },
    {
      "cell_type": "markdown",
      "metadata": {
        "id": "252c43e2"
      },
      "source": [
        "#### 29. How to compute ((A+B)*(-A/2)) in place (without copy)? (★★☆)\n",
        "Hint : use `numpy.add`, `numpy.divide`,`numpy.negative`, `numpy.multiply` and parameter `out` of the funtions"
      ],
      "id": "252c43e2"
    },
    {
      "cell_type": "code",
      "metadata": {
        "id": "f06ff615",
        "colab": {
          "base_uri": "https://localhost:8080/"
        },
        "outputId": "88af4d97-1a41-4e81-c1f8-d207f83ce7cf"
      },
      "source": [
        "import numpy as np\n",
        "\n",
        "A = np.array([1, 2, 3, 4], dtype=float)\n",
        "B = np.array([5, 6, 7, 8])\n",
        "\n",
        "np.add(A, B, out=A)\n",
        "\n",
        "np.divide(-A, 2, out=A)\n",
        "\n",
        "np.negative(A, out=A)\n",
        "\n",
        "np.multiply(A, A, out=A)\n",
        "\n",
        "print(A)"
      ],
      "id": "f06ff615",
      "execution_count": 10,
      "outputs": [
        {
          "output_type": "stream",
          "name": "stdout",
          "text": [
            "[ 9. 16. 25. 36.]\n"
          ]
        }
      ]
    },
    {
      "cell_type": "markdown",
      "metadata": {
        "id": "486df8ea"
      },
      "source": [
        "#### 30. Extract the integer part of a random array of positive numbers using 2 different methods (★★☆)\n",
        "Hint : `%`, `//`"
      ],
      "id": "486df8ea"
    },
    {
      "cell_type": "code",
      "metadata": {
        "id": "34b4fa08",
        "colab": {
          "base_uri": "https://localhost:8080/"
        },
        "outputId": "cb8c7950-9159-48a4-ad18-b29815902026"
      },
      "source": [
        "A = np.random.uniform(1,10,10)\n",
        "print(A)\n",
        "\n",
        "#첫번째 방법\n",
        "print(A - A%1)\n",
        "\n",
        "#두번째 방법\n",
        "print(A // 1)\n",
        ""
      ],
      "id": "34b4fa08",
      "execution_count": 11,
      "outputs": [
        {
          "output_type": "stream",
          "name": "stdout",
          "text": [
            "[7.62200476 5.71310494 6.87896642 6.32014706 8.04812137 8.64404906\n",
            " 3.61970054 4.42176227 3.47471195 6.03942457]\n",
            "[7. 5. 6. 6. 8. 8. 3. 4. 3. 6.]\n",
            "[7. 5. 6. 6. 8. 8. 3. 4. 3. 6.]\n"
          ]
        }
      ]
    },
    {
      "cell_type": "markdown",
      "metadata": {
        "id": "649e89f9"
      },
      "source": [
        "#### 31. Create a 5x5 matrix with row values ranging from 0 to 4 (★★☆)"
      ],
      "id": "649e89f9"
    },
    {
      "cell_type": "code",
      "metadata": {
        "id": "663cc611",
        "colab": {
          "base_uri": "https://localhost:8080/"
        },
        "outputId": "814ff64a-b619-4d42-c286-c358dfd59aa0"
      },
      "source": [
        "row_value = np.tile(np.arange(5), (5, 1))\n",
        "print(row_value)"
      ],
      "id": "663cc611",
      "execution_count": 12,
      "outputs": [
        {
          "output_type": "stream",
          "name": "stdout",
          "text": [
            "[[0 1 2 3 4]\n",
            " [0 1 2 3 4]\n",
            " [0 1 2 3 4]\n",
            " [0 1 2 3 4]\n",
            " [0 1 2 3 4]]\n"
          ]
        }
      ]
    },
    {
      "cell_type": "markdown",
      "metadata": {
        "id": "2d07be1c"
      },
      "source": [
        "#### 32. Create a random vector of size 10 and sort it (★★☆)"
      ],
      "id": "2d07be1c"
    },
    {
      "cell_type": "code",
      "metadata": {
        "id": "3326a686",
        "colab": {
          "base_uri": "https://localhost:8080/"
        },
        "outputId": "8a9af138-be64-44f6-b061-bf99e210b1b7"
      },
      "source": [
        "A = np.random.random(10)\n",
        "sorted_A = np.sort(A)\n",
        "\n",
        "print(A)\n",
        "print(sorted_A)\n",
        ""
      ],
      "id": "3326a686",
      "execution_count": 13,
      "outputs": [
        {
          "output_type": "stream",
          "name": "stdout",
          "text": [
            "[0.11949261 0.71408822 0.47004539 0.90483746 0.92627628 0.46909659\n",
            " 0.84613948 0.76078729 0.38660412 0.12636967]\n",
            "[0.11949261 0.12636967 0.38660412 0.46909659 0.47004539 0.71408822\n",
            " 0.76078729 0.84613948 0.90483746 0.92627628]\n"
          ]
        }
      ]
    },
    {
      "cell_type": "markdown",
      "metadata": {
        "id": "fe043549"
      },
      "source": [
        "#### 33. Consider two random array A and B, check if they are equal (★★☆)\n",
        "```python\n",
        "A = np.random.randint(0,2,5)\n",
        "B = np.random.randint(0,2,5)\n",
        "```\n",
        "Hint : Use `numpy.array_equal()`"
      ],
      "id": "fe043549"
    },
    {
      "cell_type": "code",
      "source": [
        "A = np.random.randint(0,2,5)\n",
        "B = np.random.randint(0,2,5)\n",
        "print(A)\n",
        "print(B)\n",
        "\n",
        "np.array_equal(A,B)"
      ],
      "metadata": {
        "colab": {
          "base_uri": "https://localhost:8080/"
        },
        "id": "YhYwJXgM10qx",
        "outputId": "acac37ea-345c-4ff7-8b2f-0a2f59798d5f"
      },
      "id": "YhYwJXgM10qx",
      "execution_count": 14,
      "outputs": [
        {
          "output_type": "stream",
          "name": "stdout",
          "text": [
            "[0 1 0 0 0]\n",
            "[0 1 0 1 1]\n"
          ]
        },
        {
          "output_type": "execute_result",
          "data": {
            "text/plain": [
              "False"
            ]
          },
          "metadata": {},
          "execution_count": 14
        }
      ]
    },
    {
      "cell_type": "markdown",
      "metadata": {
        "id": "2002cb03"
      },
      "source": [
        "#### 34. Consider a random 10x2 matrix representing cartesian coordinates, convert them to polar coordinates (★★☆)\n",
        "Hint 1 : Note that cartesian coodinate **(x, y)** can be represented as  polar coordinates **(distance from origin to (x,y), angle from the x-axis)**\n",
        "\n",
        "Hint 2 : Use `numpy.sqrt` and `numpy.arctan2`"
      ],
      "id": "2002cb03"
    },
    {
      "cell_type": "code",
      "metadata": {
        "id": "58be72bc",
        "colab": {
          "base_uri": "https://localhost:8080/"
        },
        "outputId": "010bee9c-50b1-4fae-fe39-7c2b24a082b4"
      },
      "source": [
        "cartesian = np.random.rand(10, 2) * 10\n",
        "print(\"cartesian coodinate:\\n\", cartesian)\n",
        "\n",
        "x = cartesian[:, 0] #x좌표\n",
        "y = cartesian[:, 1] #y좌표\n",
        "\n",
        "r = np.sqrt(x**2 + y**2) #반지름r = sqrt(x^2 + y^2) 식 이용\n",
        "theta = np.arctan2(y, x) #각도 계산\n",
        "\n",
        "polar_coordinates = np.column_stack((r, theta))\n",
        "print(\"\\npolar coordinate (r, θ):\\n\", polar_coordinates)"
      ],
      "id": "58be72bc",
      "execution_count": 16,
      "outputs": [
        {
          "output_type": "stream",
          "name": "stdout",
          "text": [
            "cartesian coodinate:\n",
            " [[4.24705775 9.75535487]\n",
            " [5.24322009 2.427061  ]\n",
            " [5.73534052 9.80365627]\n",
            " [9.25956798 8.56934461]\n",
            " [8.15141055 6.0822333 ]\n",
            " [4.64797162 5.14335262]\n",
            " [1.70645059 1.7266017 ]\n",
            " [0.84263297 9.96720535]\n",
            " [9.12098092 5.9767934 ]\n",
            " [7.90287501 1.8284784 ]]\n",
            "\n",
            "polar coordinate (r, θ):\n",
            " [[10.6397579   1.16018638]\n",
            " [ 5.77771426  0.43352562]\n",
            " [11.35807233  1.04146394]\n",
            " [12.61638879  0.74670378]\n",
            " [10.17049929  0.64103715]\n",
            " [ 6.9323673   0.83594893]\n",
            " [ 2.42757637  0.79126783]\n",
            " [10.00276025  1.48645633]\n",
            " [10.90478576  0.58007782]\n",
            " [ 8.11164389  0.22736799]]\n"
          ]
        }
      ]
    },
    {
      "cell_type": "markdown",
      "metadata": {
        "id": "b7109c9f"
      },
      "source": [
        "#### 35. Create random vector Z of size 10 and replace the maximum value by 0 (★★☆)\n",
        "Hint : We can see the index of maximum value using `Z.argmax()`"
      ],
      "id": "b7109c9f"
    },
    {
      "cell_type": "code",
      "metadata": {
        "id": "f79e79a7",
        "colab": {
          "base_uri": "https://localhost:8080/"
        },
        "outputId": "87c0d2ed-6c45-4828-9720-594140a7a8df"
      },
      "source": [
        "Z = np.random.random(10)\n",
        "print(Z)\n",
        "\n",
        "Z[Z.argmax()] = 0\n",
        "print(Z)"
      ],
      "id": "f79e79a7",
      "execution_count": 17,
      "outputs": [
        {
          "output_type": "stream",
          "name": "stdout",
          "text": [
            "[0.78068828 0.25994497 0.0666702  0.02573083 0.97109682 0.4789254\n",
            " 0.49226244 0.29416222 0.7504321  0.94699044]\n",
            "[0.78068828 0.25994497 0.0666702  0.02573083 0.         0.4789254\n",
            " 0.49226244 0.29416222 0.7504321  0.94699044]\n"
          ]
        }
      ]
    },
    {
      "cell_type": "markdown",
      "metadata": {
        "id": "e6e1ae2f"
      },
      "source": [
        "#### 36. How to find the closest value (to a given scalar v) in a vector Z? (★★☆)\n",
        "```python\n",
        "Z = np.arange(100)\n",
        "v = np.random.uniform(0,100)\n",
        "```\n",
        "Hint : Coumpute the distances between the each elements of Z and the scalar v. After that, we can see the index of minimum value using `argmin()`.  "
      ],
      "id": "e6e1ae2f"
    },
    {
      "cell_type": "code",
      "source": [
        "Z = np.arange(100)\n",
        "v = np.random.uniform(0,100)\n",
        "print(Z)\n",
        "print(v)\n",
        "\n",
        "distances = np.abs(Z - v)\n",
        "closest_index = np.argmin(distances)\n",
        "closest_value = Z[closest_index]\n",
        "\n",
        "print(closest_value)"
      ],
      "metadata": {
        "id": "QkQ2Mii77FrE",
        "colab": {
          "base_uri": "https://localhost:8080/"
        },
        "outputId": "b30f4aea-809c-480e-f556-6637139626f4"
      },
      "id": "QkQ2Mii77FrE",
      "execution_count": 18,
      "outputs": [
        {
          "output_type": "stream",
          "name": "stdout",
          "text": [
            "[ 0  1  2  3  4  5  6  7  8  9 10 11 12 13 14 15 16 17 18 19 20 21 22 23\n",
            " 24 25 26 27 28 29 30 31 32 33 34 35 36 37 38 39 40 41 42 43 44 45 46 47\n",
            " 48 49 50 51 52 53 54 55 56 57 58 59 60 61 62 63 64 65 66 67 68 69 70 71\n",
            " 72 73 74 75 76 77 78 79 80 81 82 83 84 85 86 87 88 89 90 91 92 93 94 95\n",
            " 96 97 98 99]\n",
            "66.85810368713699\n",
            "67\n"
          ]
        }
      ]
    },
    {
      "cell_type": "markdown",
      "metadata": {
        "id": "f98713a6"
      },
      "source": [
        "#### 37. What is the equivalent of enumerate for numpy arrays? (★★☆)\n",
        "Hint : Use `numpy.ndenumerate()`or `numpy.ndindex()`\n",
        "\n",
        "Example of the output :\n",
        "```python\n",
        "Z = np.arange(9).reshape(3,3)\n",
        "```\n",
        "```python\n",
        "# output\n",
        "(0, 0) 0\n",
        "(0, 1) 1\n",
        "(0, 2) 2\n",
        "(1, 0) 3\n",
        "(1, 1) 4\n",
        "(1, 2) 5\n",
        "(2, 0) 6\n",
        "(2, 1) 7\n",
        "(2, 2) 8\n",
        "```"
      ],
      "id": "f98713a6"
    },
    {
      "cell_type": "code",
      "metadata": {
        "id": "64795f84",
        "colab": {
          "base_uri": "https://localhost:8080/"
        },
        "outputId": "6f900956-f31c-4be8-f3bf-7f0b711945e2"
      },
      "source": [
        "import numpy as np\n",
        "Z = np.arange(9).reshape(3, 3)\n",
        "for index, value in np.ndenumerate(Z):\n",
        "    print(index, value)"
      ],
      "id": "64795f84",
      "execution_count": 19,
      "outputs": [
        {
          "output_type": "stream",
          "name": "stdout",
          "text": [
            "(0, 0) 0\n",
            "(0, 1) 1\n",
            "(0, 2) 2\n",
            "(1, 0) 3\n",
            "(1, 1) 4\n",
            "(1, 2) 5\n",
            "(2, 0) 6\n",
            "(2, 1) 7\n",
            "(2, 2) 8\n"
          ]
        }
      ]
    },
    {
      "cell_type": "markdown",
      "metadata": {
        "id": "0cf413ee"
      },
      "source": [
        "#### 38. How to randomly place p elements in a 2D array? (★★☆)\n",
        "Hint : modify the code below\n",
        "```python\n",
        "n = 'size of a 2D array'\n",
        "p = 'the number of elements that you want to place'\n",
        "Z = np.zeros((n,n))\n",
        "np.put(Z, np.random.choice(range(n*n), p, replace = False),'value that you want to place')\n",
        "print(Z)\n",
        "```"
      ],
      "id": "0cf413ee"
    },
    {
      "cell_type": "code",
      "metadata": {
        "id": "dfc57e06",
        "colab": {
          "base_uri": "https://localhost:8080/"
        },
        "outputId": "5a210f54-d9b1-4a35-b94a-81ef655c6fca"
      },
      "source": [
        "n = 5\n",
        "p = 8\n",
        "Z = np.zeros((n, n))\n",
        "\n",
        "indices = np.random.choice(range(n * n), p, replace=False)\n",
        "np.put(Z, indices, 1)\n",
        "\n",
        "print(Z)"
      ],
      "id": "dfc57e06",
      "execution_count": 20,
      "outputs": [
        {
          "output_type": "stream",
          "name": "stdout",
          "text": [
            "[[1. 0. 1. 0. 0.]\n",
            " [0. 1. 1. 0. 1.]\n",
            " [0. 0. 1. 1. 0.]\n",
            " [0. 1. 0. 0. 0.]\n",
            " [0. 0. 0. 0. 0.]]\n"
          ]
        }
      ]
    },
    {
      "cell_type": "markdown",
      "metadata": {
        "id": "c0cf37e0"
      },
      "source": [
        "#### 39. How to sort an array below by the nth column? (★★☆)\n",
        "```python\n",
        "Z = np.random.randint(0,10,(3,3))\n",
        "```"
      ],
      "id": "c0cf37e0"
    },
    {
      "cell_type": "code",
      "source": [
        "Z = np.random.randint(0,10,(3,3))\n",
        "print(\"원래 배열:\\n\", Z)"
      ],
      "metadata": {
        "colab": {
          "base_uri": "https://localhost:8080/"
        },
        "id": "2Jd-7fDz3z_7",
        "outputId": "1434dd7f-0ee4-450f-b967-1e249d5af2b2"
      },
      "id": "2Jd-7fDz3z_7",
      "execution_count": 21,
      "outputs": [
        {
          "output_type": "stream",
          "name": "stdout",
          "text": [
            "원래 배열:\n",
            " [[0 7 6]\n",
            " [3 3 5]\n",
            " [7 0 4]]\n"
          ]
        }
      ]
    },
    {
      "cell_type": "code",
      "metadata": {
        "id": "9336ca5f",
        "colab": {
          "base_uri": "https://localhost:8080/"
        },
        "outputId": "3297ff9e-a522-43aa-db17-3fbc4aa03598"
      },
      "source": [
        "# column 1\n",
        "n = 1\n",
        "sorted_Z = Z[Z[:, n-1].argsort()]\n",
        "print(f\"{n}번째 열을 기준으로 정렬된 배열:\\n\", sorted_Z)"
      ],
      "id": "9336ca5f",
      "execution_count": 22,
      "outputs": [
        {
          "output_type": "stream",
          "name": "stdout",
          "text": [
            "1번째 열을 기준으로 정렬된 배열:\n",
            " [[0 7 6]\n",
            " [3 3 5]\n",
            " [7 0 4]]\n"
          ]
        }
      ]
    },
    {
      "cell_type": "code",
      "source": [
        "# column 2\n",
        "n = 2\n",
        "sorted_Z = Z[Z[:, n-1].argsort()]\n",
        "print(f\"{n}번째 열을 기준으로 정렬된 배열:\\n\", sorted_Z)"
      ],
      "metadata": {
        "id": "0hZzZ6tn2K6V",
        "colab": {
          "base_uri": "https://localhost:8080/"
        },
        "outputId": "3c12e3d3-3310-4be0-8fd8-33cdf41807db"
      },
      "id": "0hZzZ6tn2K6V",
      "execution_count": 23,
      "outputs": [
        {
          "output_type": "stream",
          "name": "stdout",
          "text": [
            "2번째 열을 기준으로 정렬된 배열:\n",
            " [[7 0 4]\n",
            " [3 3 5]\n",
            " [0 7 6]]\n"
          ]
        }
      ]
    },
    {
      "cell_type": "code",
      "source": [
        "# column 3\n",
        "n = 3\n",
        "sorted_Z = Z[Z[:, n-1].argsort()]\n",
        "print(f\"{n}번째 열을 기준으로 정렬된 배열:\\n\", sorted_Z)"
      ],
      "metadata": {
        "id": "z4zqQXvt2NaB",
        "colab": {
          "base_uri": "https://localhost:8080/"
        },
        "outputId": "44ccd535-8350-4802-c28a-d8e7c48b137f"
      },
      "id": "z4zqQXvt2NaB",
      "execution_count": 24,
      "outputs": [
        {
          "output_type": "stream",
          "name": "stdout",
          "text": [
            "3번째 열을 기준으로 정렬된 배열:\n",
            " [[7 0 4]\n",
            " [3 3 5]\n",
            " [0 7 6]]\n"
          ]
        }
      ]
    }
  ]
}